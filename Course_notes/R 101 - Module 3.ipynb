{
 "cells": [
  {
   "cell_type": "markdown",
   "id": "791d5b30",
   "metadata": {
    "toc": true
   },
   "source": [
    "<h1>Contents<span class=\"tocSkip\"></span></h1>\n",
    "<div class=\"toc\"><ul class=\"toc-item\"><li><span><a href=\"#Module-3---R-programming-fundamentals\" data-toc-modified-id=\"Module-3---R-programming-fundamentals-1\">Module 3 - R programming fundamentals</a></span></li><li><span><a href=\"#Conditions-and-Loops\" data-toc-modified-id=\"Conditions-and-Loops-2\">Conditions and Loops</a></span><ul class=\"toc-item\"><li><span><a href=\"#Conditional-Statements\" data-toc-modified-id=\"Conditional-Statements-2.1\">Conditional Statements</a></span><ul class=\"toc-item\"><li><span><a href=\"#If-and-Else-Statements\" data-toc-modified-id=\"If-and-Else-Statements-2.1.1\">If and Else Statements</a></span></li></ul></li><li><span><a href=\"#Comparison-and-Logical-Operators\" data-toc-modified-id=\"Comparison-and-Logical-Operators-2.2\">Comparison and Logical Operators</a></span></li><li><span><a href=\"#For-Loops\" data-toc-modified-id=\"For-Loops-2.3\">For Loops</a></span></li><li><span><a href=\"#While-Loops\" data-toc-modified-id=\"While-Loops-2.4\">While Loops</a></span></li></ul></li><li><span><a href=\"#Functions-in-R\" data-toc-modified-id=\"Functions-in-R-3\">Functions in R</a></span><ul class=\"toc-item\"><li><span><a href=\"#Pre-defined-functions\" data-toc-modified-id=\"Pre-defined-functions-3.1\">Pre-defined functions</a></span></li><li><span><a href=\"#User-defined-functions\" data-toc-modified-id=\"User-defined-functions-3.2\">User-defined functions</a></span></li><li><span><a href=\"#Returning-values-explicitly\" data-toc-modified-id=\"Returning-values-explicitly-3.3\">Returning values explicitly</a></span></li><li><span><a href=\"#If-/-Else-in-functions\" data-toc-modified-id=\"If-/-Else-in-functions-3.4\">If / Else in functions</a></span></li><li><span><a href=\"#Default-input-values-in-functions\" data-toc-modified-id=\"Default-input-values-in-functions-3.5\">Default input values in functions</a></span></li><li><span><a href=\"#Functions-within-other-functions\" data-toc-modified-id=\"Functions-within-other-functions-3.6\">Functions within other functions</a></span></li><li><span><a href=\"#Global-and-local-variables\" data-toc-modified-id=\"Global-and-local-variables-3.7\">Global and local variables</a></span></li></ul></li></ul></div>"
   ]
  },
  {
   "cell_type": "markdown",
   "id": "abf397a7",
   "metadata": {},
   "source": [
    "## Module 3 - R programming fundamentals"
   ]
  },
  {
   "cell_type": "markdown",
   "id": "6f670ddb",
   "metadata": {},
   "source": [
    "* Conditions and loops\n",
    "* Functions in R\n",
    "* Objects and Classes\n",
    "* Debugging"
   ]
  },
  {
   "cell_type": "markdown",
   "id": "3fe5ee77",
   "metadata": {},
   "source": [
    "## Conditions and Loops"
   ]
  },
  {
   "cell_type": "markdown",
   "id": "23a29c0b",
   "metadata": {},
   "source": [
    "### Conditional Statements"
   ]
  },
  {
   "cell_type": "markdown",
   "id": "f891e2e3",
   "metadata": {},
   "source": [
    "#### If and Else Statements"
   ]
  },
  {
   "cell_type": "code",
   "execution_count": 5,
   "id": "556f4013",
   "metadata": {},
   "outputs": [
    {
     "name": "stdout",
     "output_type": "stream",
     "text": [
      "[1] \"Movie year is greater than 2000\"\n"
     ]
    }
   ],
   "source": [
    "movie_year <- 2002\n",
    "\n",
    "if(movie_year > 2000) {\n",
    "    print('Movie year is greater than 2000')\n",
    "}"
   ]
  },
  {
   "cell_type": "code",
   "execution_count": 6,
   "id": "d33f5293",
   "metadata": {},
   "outputs": [
    {
     "name": "stdout",
     "output_type": "stream",
     "text": [
      "[1] \"Movie year is not greater than 2000\"\n"
     ]
    }
   ],
   "source": [
    "movie_year <- 1997\n",
    "\n",
    "if(movie_year > 2000) {\n",
    "    print('Movie year is greater than 2000')\n",
    "} else {\n",
    "    print('Movie year is not greater than 2000')\n",
    "}"
   ]
  },
  {
   "cell_type": "markdown",
   "id": "9b88321d",
   "metadata": {},
   "source": [
    "### Comparison and Logical Operators"
   ]
  },
  {
   "cell_type": "markdown",
   "id": "7c0cc696",
   "metadata": {},
   "source": [
    "Operator | Meaning\n",
    ":--------|:-----------\n",
    "==  | Is equal to?\n",
    "!=  | Is not equal to?\n",
    ">   | Greater than?\n",
    "<   | Less than?\n",
    ">=  | Greater than or equal to?\n",
    "<=  | Less than or equal to?\n",
    "&   | And\n",
    "|   | Or\n",
    "!   | Not\n",
    "%in%| Is found in?"
   ]
  },
  {
   "cell_type": "markdown",
   "id": "7d5792f9",
   "metadata": {},
   "source": [
    "### For Loops"
   ]
  },
  {
   "cell_type": "markdown",
   "id": "abf52d16",
   "metadata": {},
   "source": [
    "**\"For\"** loops can be used to cycle through all the values in a vector."
   ]
  },
  {
   "cell_type": "markdown",
   "id": "b1ac285f",
   "metadata": {},
   "source": [
    "years <- c(1995, 1998, 1985, 2011, 1936, 1999)\n",
    "\n",
    "for (yr in years) {\n",
    "    print(yr)\n",
    "}"
   ]
  },
  {
   "cell_type": "markdown",
   "id": "c49dd1df",
   "metadata": {},
   "source": [
    "### While Loops"
   ]
  },
  {
   "cell_type": "markdown",
   "id": "2a95e3d7",
   "metadata": {},
   "source": [
    "A **\"while\"** loop will continue to execute so long as the condition inside the parentheses remains true."
   ]
  },
  {
   "cell_type": "code",
   "execution_count": 11,
   "id": "6b999e10",
   "metadata": {},
   "outputs": [
    {
     "name": "stdout",
     "output_type": "stream",
     "text": [
      "[1] \"Iteration number:\" \"1\"                \n",
      "[1] \"Iteration number:\" \"2\"                \n",
      "[1] \"Iteration number:\" \"3\"                \n",
      "[1] \"Iteration number:\" \"4\"                \n",
      "[1] \"Iteration number:\" \"5\"                \n"
     ]
    }
   ],
   "source": [
    "count <- 1\n",
    "\n",
    "while (count <= 5) {\n",
    "    print(c(\"Iteration number:\", count))\n",
    "    count <- count + 1\n",
    "}"
   ]
  },
  {
   "cell_type": "markdown",
   "id": "77ad90a5",
   "metadata": {},
   "source": [
    "## Functions in R"
   ]
  },
  {
   "cell_type": "markdown",
   "id": "6729b826",
   "metadata": {},
   "source": [
    "- Function: reusable block of code\n",
    "    1. Pre-defined functions\n",
    "        - either built into R or provided in a separate package\n",
    "   \n",
    "    2. User-defined functions"
   ]
  },
  {
   "cell_type": "markdown",
   "id": "d24de86c",
   "metadata": {},
   "source": [
    "### Pre-defined functions"
   ]
  },
  {
   "cell_type": "code",
   "execution_count": 12,
   "id": "54e88285",
   "metadata": {},
   "outputs": [
    {
     "data": {
      "text/html": [
       "8.03333333333333"
      ],
      "text/latex": [
       "8.03333333333333"
      ],
      "text/markdown": [
       "8.03333333333333"
      ],
      "text/plain": [
       "[1] 8.033333"
      ]
     },
     "metadata": {},
     "output_type": "display_data"
    },
    {
     "data": {
      "text/html": [
       "<style>\n",
       ".list-inline {list-style: none; margin:0; padding: 0}\n",
       ".list-inline>li {display: inline-block}\n",
       ".list-inline>li:not(:last-child)::after {content: \"\\00b7\"; padding: 0 .5ex}\n",
       "</style>\n",
       "<ol class=list-inline><li>6.9</li><li>8.5</li><li>8.7</li></ol>\n"
      ],
      "text/latex": [
       "\\begin{enumerate*}\n",
       "\\item 6.9\n",
       "\\item 8.5\n",
       "\\item 8.7\n",
       "\\end{enumerate*}\n"
      ],
      "text/markdown": [
       "1. 6.9\n",
       "2. 8.5\n",
       "3. 8.7\n",
       "\n",
       "\n"
      ],
      "text/plain": [
       "[1] 6.9 8.5 8.7"
      ]
     },
     "metadata": {},
     "output_type": "display_data"
    },
    {
     "data": {
      "text/html": [
       "<style>\n",
       ".list-inline {list-style: none; margin:0; padding: 0}\n",
       ".list-inline>li {display: inline-block}\n",
       ".list-inline>li:not(:last-child)::after {content: \"\\00b7\"; padding: 0 .5ex}\n",
       "</style>\n",
       "<ol class=list-inline><li>8.7</li><li>8.5</li><li>6.9</li></ol>\n"
      ],
      "text/latex": [
       "\\begin{enumerate*}\n",
       "\\item 8.7\n",
       "\\item 8.5\n",
       "\\item 6.9\n",
       "\\end{enumerate*}\n"
      ],
      "text/markdown": [
       "1. 8.7\n",
       "2. 8.5\n",
       "3. 6.9\n",
       "\n",
       "\n"
      ],
      "text/plain": [
       "[1] 8.7 8.5 6.9"
      ]
     },
     "metadata": {},
     "output_type": "display_data"
    }
   ],
   "source": [
    "# Use the built-in \"mean\" function to find the average of movie ratings\n",
    "ratings <- c(8.7, 6.9, 8.5)\n",
    "\n",
    "mean(ratings)\n",
    "\n",
    "# The R \"sort\" function is used to order the elements of a vector\n",
    "sort(ratings)\n",
    "\n",
    "# To sort in descending order, add a second parameter\n",
    "sort(ratings, decreasing=TRUE)"
   ]
  },
  {
   "cell_type": "markdown",
   "id": "7ee6c204",
   "metadata": {},
   "source": [
    "### User-defined functions"
   ]
  },
  {
   "cell_type": "code",
   "execution_count": 13,
   "id": "6cf6dd5b",
   "metadata": {},
   "outputs": [
    {
     "name": "stdout",
     "output_type": "stream",
     "text": [
      "[1] \"Hello World\"\n"
     ]
    }
   ],
   "source": [
    "# Define a function to print 'Hello World' to the screen\n",
    "\n",
    "printHelloWorld <- function() {\n",
    "    print('Hello World')\n",
    "}\n",
    "\n",
    "# Call the function\n",
    "printHelloWorld()"
   ]
  },
  {
   "cell_type": "code",
   "execution_count": 14,
   "id": "e234fd07",
   "metadata": {},
   "outputs": [
    {
     "data": {
      "text/html": [
       "7"
      ],
      "text/latex": [
       "7"
      ],
      "text/markdown": [
       "7"
      ],
      "text/plain": [
       "[1] 7"
      ]
     },
     "metadata": {},
     "output_type": "display_data"
    }
   ],
   "source": [
    "# Define a function that takes two arguments\n",
    "\n",
    "add <- function(x,y) {\n",
    "    x + y\n",
    "}\n",
    "\n",
    "add(3,4)"
   ]
  },
  {
   "cell_type": "markdown",
   "id": "e488b760",
   "metadata": {},
   "source": [
    "### Returning values explicitly"
   ]
  },
  {
   "cell_type": "markdown",
   "id": "d9d9f0c6",
   "metadata": {},
   "source": [
    "- The `return` statement can be used to explicitly output a value from the function.\n",
    "- When `return` is encountered, anywhere in the function, the corresponding value will be output and the function will exit\n",
    "- If the function lacks a return statement, then R will automatically return the value of the last evaluated expression"
   ]
  },
  {
   "cell_type": "markdown",
   "id": "cb5b7cf2",
   "metadata": {},
   "source": [
    "### If / Else in functions"
   ]
  },
  {
   "cell_type": "code",
   "execution_count": 20,
   "id": "55b79fde",
   "metadata": {},
   "outputs": [
    {
     "data": {
      "text/html": [
       "'NO'"
      ],
      "text/latex": [
       "'NO'"
      ],
      "text/markdown": [
       "'NO'"
      ],
      "text/plain": [
       "[1] \"NO\""
      ]
     },
     "metadata": {},
     "output_type": "display_data"
    },
    {
     "data": {
      "text/html": [
       "'YES'"
      ],
      "text/latex": [
       "'YES'"
      ],
      "text/markdown": [
       "'YES'"
      ],
      "text/plain": [
       "[1] \"YES\""
      ]
     },
     "metadata": {},
     "output_type": "display_data"
    }
   ],
   "source": [
    "isGoodRating <- function(rating) {\n",
    "    if (rating < 7) {\n",
    "        return(\"NO\")\n",
    "    } else {\n",
    "        return(\"YES\")\n",
    "    }\n",
    "}\n",
    "\n",
    "isGoodRating(6)\n",
    "\n",
    "isGoodRating(9.5)"
   ]
  },
  {
   "cell_type": "markdown",
   "id": "7993b568",
   "metadata": {},
   "source": [
    "### Default input values in functions"
   ]
  },
  {
   "cell_type": "code",
   "execution_count": 21,
   "id": "3a3a206c",
   "metadata": {},
   "outputs": [
    {
     "data": {
      "text/html": [
       "'YES'"
      ],
      "text/latex": [
       "'YES'"
      ],
      "text/markdown": [
       "'YES'"
      ],
      "text/plain": [
       "[1] \"YES\""
      ]
     },
     "metadata": {},
     "output_type": "display_data"
    }
   ],
   "source": [
    "# Set a default value for the function argument\n",
    "isGoodRating <- function(rating, threshold = 7) {\n",
    "    if(rating < threshold) {\n",
    "        return(\"NO\")\n",
    "    } else {\n",
    "        return(\"YES\")\n",
    "    }\n",
    "}\n",
    "\n",
    "# When calling this function, just specify the \"rating\" parameter\n",
    "isGoodRating(8)"
   ]
  },
  {
   "cell_type": "code",
   "execution_count": 22,
   "id": "e2e38fe8",
   "metadata": {},
   "outputs": [
    {
     "data": {
      "text/html": [
       "'NO'"
      ],
      "text/latex": [
       "'NO'"
      ],
      "text/markdown": [
       "'NO'"
      ],
      "text/plain": [
       "[1] \"NO\""
      ]
     },
     "metadata": {},
     "output_type": "display_data"
    }
   ],
   "source": [
    "# To override the default value:\n",
    "\n",
    "isGoodRating(8, threshold = 8.5)"
   ]
  },
  {
   "cell_type": "markdown",
   "id": "7c7f2ca4",
   "metadata": {},
   "source": [
    "### Functions within other functions"
   ]
  },
  {
   "cell_type": "code",
   "execution_count": 23,
   "id": "15971a05",
   "metadata": {},
   "outputs": [],
   "source": [
    "# code to download the movies dataset\n",
    "download.file(\"https://ibm.box.com/shared/static/n5ay5qadfe7e1nnsv5s01oe1x62mq51j.csv\", destfile=\"movies-db.csv\")"
   ]
  },
  {
   "cell_type": "code",
   "execution_count": 24,
   "id": "9a075262",
   "metadata": {
    "scrolled": true
   },
   "outputs": [
    {
     "data": {
      "text/html": [
       "<table class=\"dataframe\">\n",
       "<caption>A data.frame: 6 × 8</caption>\n",
       "<thead>\n",
       "\t<tr><th></th><th scope=col>name</th><th scope=col>year</th><th scope=col>length_min</th><th scope=col>genre</th><th scope=col>average_rating</th><th scope=col>cost_millions</th><th scope=col>foreign</th><th scope=col>age_restriction</th></tr>\n",
       "\t<tr><th></th><th scope=col>&lt;chr&gt;</th><th scope=col>&lt;int&gt;</th><th scope=col>&lt;int&gt;</th><th scope=col>&lt;chr&gt;</th><th scope=col>&lt;dbl&gt;</th><th scope=col>&lt;dbl&gt;</th><th scope=col>&lt;int&gt;</th><th scope=col>&lt;int&gt;</th></tr>\n",
       "</thead>\n",
       "<tbody>\n",
       "\t<tr><th scope=row>1</th><td>Toy Story         </td><td>1995</td><td> 81</td><td>Animation</td><td>8.3</td><td>30.0</td><td>0</td><td> 0</td></tr>\n",
       "\t<tr><th scope=row>2</th><td>Akira             </td><td>1998</td><td>125</td><td>Animation</td><td>8.1</td><td>10.4</td><td>1</td><td>14</td></tr>\n",
       "\t<tr><th scope=row>3</th><td>The Breakfast Club</td><td>1985</td><td> 97</td><td>Drama    </td><td>7.9</td><td> 1.0</td><td>0</td><td>14</td></tr>\n",
       "\t<tr><th scope=row>4</th><td>The Artist        </td><td>2011</td><td>100</td><td>Romance  </td><td>8.0</td><td>15.0</td><td>1</td><td>12</td></tr>\n",
       "\t<tr><th scope=row>5</th><td>Modern Times      </td><td>1936</td><td> 87</td><td>Comedy   </td><td>8.6</td><td> 1.5</td><td>0</td><td>10</td></tr>\n",
       "\t<tr><th scope=row>6</th><td>Fight Club        </td><td>1999</td><td>139</td><td>Drama    </td><td>8.9</td><td>63.0</td><td>0</td><td>18</td></tr>\n",
       "</tbody>\n",
       "</table>\n"
      ],
      "text/latex": [
       "A data.frame: 6 × 8\n",
       "\\begin{tabular}{r|llllllll}\n",
       "  & name & year & length\\_min & genre & average\\_rating & cost\\_millions & foreign & age\\_restriction\\\\\n",
       "  & <chr> & <int> & <int> & <chr> & <dbl> & <dbl> & <int> & <int>\\\\\n",
       "\\hline\n",
       "\t1 & Toy Story          & 1995 &  81 & Animation & 8.3 & 30.0 & 0 &  0\\\\\n",
       "\t2 & Akira              & 1998 & 125 & Animation & 8.1 & 10.4 & 1 & 14\\\\\n",
       "\t3 & The Breakfast Club & 1985 &  97 & Drama     & 7.9 &  1.0 & 0 & 14\\\\\n",
       "\t4 & The Artist         & 2011 & 100 & Romance   & 8.0 & 15.0 & 1 & 12\\\\\n",
       "\t5 & Modern Times       & 1936 &  87 & Comedy    & 8.6 &  1.5 & 0 & 10\\\\\n",
       "\t6 & Fight Club         & 1999 & 139 & Drama     & 8.9 & 63.0 & 0 & 18\\\\\n",
       "\\end{tabular}\n"
      ],
      "text/markdown": [
       "\n",
       "A data.frame: 6 × 8\n",
       "\n",
       "| <!--/--> | name &lt;chr&gt; | year &lt;int&gt; | length_min &lt;int&gt; | genre &lt;chr&gt; | average_rating &lt;dbl&gt; | cost_millions &lt;dbl&gt; | foreign &lt;int&gt; | age_restriction &lt;int&gt; |\n",
       "|---|---|---|---|---|---|---|---|---|\n",
       "| 1 | Toy Story          | 1995 |  81 | Animation | 8.3 | 30.0 | 0 |  0 |\n",
       "| 2 | Akira              | 1998 | 125 | Animation | 8.1 | 10.4 | 1 | 14 |\n",
       "| 3 | The Breakfast Club | 1985 |  97 | Drama     | 7.9 |  1.0 | 0 | 14 |\n",
       "| 4 | The Artist         | 2011 | 100 | Romance   | 8.0 | 15.0 | 1 | 12 |\n",
       "| 5 | Modern Times       | 1936 |  87 | Comedy    | 8.6 |  1.5 | 0 | 10 |\n",
       "| 6 | Fight Club         | 1999 | 139 | Drama     | 8.9 | 63.0 | 0 | 18 |\n",
       "\n"
      ],
      "text/plain": [
       "  name               year length_min genre     average_rating cost_millions\n",
       "1 Toy Story          1995  81        Animation 8.3            30.0         \n",
       "2 Akira              1998 125        Animation 8.1            10.4         \n",
       "3 The Breakfast Club 1985  97        Drama     7.9             1.0         \n",
       "4 The Artist         2011 100        Romance   8.0            15.0         \n",
       "5 Modern Times       1936  87        Comedy    8.6             1.5         \n",
       "6 Fight Club         1999 139        Drama     8.9            63.0         \n",
       "  foreign age_restriction\n",
       "1 0        0             \n",
       "2 1       14             \n",
       "3 0       14             \n",
       "4 1       12             \n",
       "5 0       10             \n",
       "6 0       18             "
      ]
     },
     "metadata": {},
     "output_type": "display_data"
    }
   ],
   "source": [
    "movies_data <- read.csv(\"movies-db.csv\", header=TRUE, sep=\",\")\n",
    "head(movies_data)"
   ]
  },
  {
   "cell_type": "code",
   "execution_count": 29,
   "id": "6f108c22",
   "metadata": {},
   "outputs": [],
   "source": [
    "isGoodRating <- function(rating, threshold = 7) {\n",
    "    if(rating < threshold) {\n",
    "        return(\"NO\")\n",
    "    } else {\n",
    "        return(\"YES\")\n",
    "    }\n",
    "}\n",
    "\n",
    "watchMovie <- function(moviename, my_threshold = 8) {\n",
    "    rating <- movies_data[movies_data[,1] == moviename, \"average_rating\"] # Find a matching name in the \"name\" column,\n",
    "    isGoodRating(rating, threshold = my_threshold)                        # then find the \"average rating\" in the\n",
    "}                                                                         # corresponding row"
   ]
  },
  {
   "cell_type": "code",
   "execution_count": 30,
   "id": "7f6326d6",
   "metadata": {},
   "outputs": [
    {
     "data": {
      "text/html": [
       "'YES'"
      ],
      "text/latex": [
       "'YES'"
      ],
      "text/markdown": [
       "'YES'"
      ],
      "text/plain": [
       "[1] \"YES\""
      ]
     },
     "metadata": {},
     "output_type": "display_data"
    }
   ],
   "source": [
    "watchMovie(\"Toy Story\")"
   ]
  },
  {
   "cell_type": "code",
   "execution_count": 31,
   "id": "4d756467",
   "metadata": {},
   "outputs": [
    {
     "data": {
      "text/html": [
       "'NO'"
      ],
      "text/latex": [
       "'NO'"
      ],
      "text/markdown": [
       "'NO'"
      ],
      "text/plain": [
       "[1] \"NO\""
      ]
     },
     "metadata": {},
     "output_type": "display_data"
    }
   ],
   "source": [
    "watchMovie(\"The Breakfast Club\")"
   ]
  },
  {
   "cell_type": "markdown",
   "id": "af5f8b31",
   "metadata": {},
   "source": [
    "### Global and local variables"
   ]
  },
  {
   "cell_type": "code",
   "execution_count": 33,
   "id": "d4e61cbd",
   "metadata": {},
   "outputs": [
    {
     "data": {
      "text/html": [
       "'Hello World'"
      ],
      "text/latex": [
       "'Hello World'"
      ],
      "text/markdown": [
       "'Hello World'"
      ],
      "text/plain": [
       "[1] \"Hello World\""
      ]
     },
     "metadata": {},
     "output_type": "display_data"
    }
   ],
   "source": [
    "# In this function, \"y\" is defined as a global variable and can be accessed outside the function. \"temp\" is a local\n",
    "# variable and can only be accessed inside the function.\n",
    "\n",
    "myFunction <- function() {\n",
    "    y <<- 3.14\n",
    "    temp <- \"Hello World\"\n",
    "    return(temp)\n",
    "}\n",
    "\n",
    "myFunction()"
   ]
  },
  {
   "cell_type": "code",
   "execution_count": 34,
   "id": "3e398d92",
   "metadata": {},
   "outputs": [
    {
     "name": "stdout",
     "output_type": "stream",
     "text": [
      "[1] 3.14\n"
     ]
    }
   ],
   "source": [
    "# Variable \"y\" can be accessed outside the function\n",
    "print(y)"
   ]
  },
  {
   "cell_type": "code",
   "execution_count": null,
   "id": "894ba048",
   "metadata": {},
   "outputs": [],
   "source": []
  }
 ],
 "metadata": {
  "kernelspec": {
   "display_name": "R",
   "language": "R",
   "name": "ir"
  },
  "language_info": {
   "codemirror_mode": "r",
   "file_extension": ".r",
   "mimetype": "text/x-r-source",
   "name": "R",
   "pygments_lexer": "r",
   "version": "4.1.0"
  },
  "toc": {
   "base_numbering": 1,
   "nav_menu": {},
   "number_sections": false,
   "sideBar": true,
   "skip_h1_title": true,
   "title_cell": "Contents",
   "title_sidebar": "Contents",
   "toc_cell": true,
   "toc_position": {},
   "toc_section_display": true,
   "toc_window_display": false
  }
 },
 "nbformat": 4,
 "nbformat_minor": 5
}
