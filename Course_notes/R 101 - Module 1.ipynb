{
 "cells": [
  {
   "cell_type": "markdown",
   "id": "8c17a3bf",
   "metadata": {
    "toc": true
   },
   "source": [
    "<h1>Contents<span class=\"tocSkip\"></span></h1>\n",
    "<div class=\"toc\"><ul class=\"toc-item\"><li><span><a href=\"#Learning-Objectives\" data-toc-modified-id=\"Learning-Objectives-1\">Learning Objectives</a></span></li><li><span><a href=\"#Module-3---R-programming-fundamentals\" data-toc-modified-id=\"Module-3---R-programming-fundamentals-2\">Module 3 - R programming fundamentals</a></span></li><li><span><a href=\"#Module-4---Working-with-data-in-R\" data-toc-modified-id=\"Module-4---Working-with-data-in-R-3\">Module 4 - Working with data in R</a></span></li><li><span><a href=\"#Module-5---Strings-and-Dates-in-R\" data-toc-modified-id=\"Module-5---Strings-and-Dates-in-R-4\">Module 5 - Strings and Dates in R</a></span></li><li><span><a href=\"#Module-1---R-basics\" data-toc-modified-id=\"Module-1---R-basics-5\">Module 1 - R basics</a></span><ul class=\"toc-item\"><li><span><a href=\"#Math,-Variables,-and-Strings\" data-toc-modified-id=\"Math,-Variables,-and-Strings-5.1\">Math, Variables, and Strings</a></span></li><li><span><a href=\"#Vectors-and-Factors\" data-toc-modified-id=\"Vectors-and-Factors-5.2\">Vectors and Factors</a></span><ul class=\"toc-item\"><li><span><a href=\"#Vectors\" data-toc-modified-id=\"Vectors-5.2.1\">Vectors</a></span></li><li><span><a href=\"#Factors\" data-toc-modified-id=\"Factors-5.2.2\">Factors</a></span></li><li><span><a href=\"#Summarizing-Factors\" data-toc-modified-id=\"Summarizing-Factors-5.2.3\">Summarizing Factors</a></span></li><li><span><a href=\"#Ordered-Factor\" data-toc-modified-id=\"Ordered-Factor-5.2.4\">Ordered Factor</a></span></li></ul></li><li><span><a href=\"#Vector-Operations\" data-toc-modified-id=\"Vector-Operations-5.3\">Vector Operations</a></span><ul class=\"toc-item\"><li><span><a href=\"#Naming-Elements-of-a-Vector\" data-toc-modified-id=\"Naming-Elements-of-a-Vector-5.3.1\">Naming Elements of a Vector</a></span></li><li><span><a href=\"#Length-of-a-Vector\" data-toc-modified-id=\"Length-of-a-Vector-5.3.2\">Length of a Vector</a></span></li><li><span><a href=\"#Sort-a-Vector\" data-toc-modified-id=\"Sort-a-Vector-5.3.3\">Sort a Vector</a></span></li><li><span><a href=\"#Smallest-and-Largest-Number\" data-toc-modified-id=\"Smallest-and-Largest-Number-5.3.4\">Smallest and Largest Number</a></span></li><li><span><a href=\"#Average-of-Numbers\" data-toc-modified-id=\"Average-of-Numbers-5.3.5\">Average of Numbers</a></span></li><li><span><a href=\"#Vector-Summary\" data-toc-modified-id=\"Vector-Summary-5.3.6\">Vector Summary</a></span></li><li><span><a href=\"#Vector-Index\" data-toc-modified-id=\"Vector-Index-5.3.7\">Vector Index</a></span></li><li><span><a href=\"#Missing-Values\" data-toc-modified-id=\"Missing-Values-5.3.8\">Missing Values</a></span></li><li><span><a href=\"#Vector-Arithmetic\" data-toc-modified-id=\"Vector-Arithmetic-5.3.9\">Vector Arithmetic</a></span></li></ul></li></ul></li><li><span><a href=\"#Review-Questions\" data-toc-modified-id=\"Review-Questions-6\">Review Questions</a></span></li></ul></div>"
   ]
  },
  {
   "cell_type": "markdown",
   "id": "514b942b",
   "metadata": {},
   "source": [
    "# R 101"
   ]
  },
  {
   "cell_type": "markdown",
   "id": "9cc896b5",
   "metadata": {},
   "source": [
    "## Learning Objectives"
   ]
  },
  {
   "cell_type": "markdown",
   "id": "1289a8e6",
   "metadata": {},
   "source": [
    "* The basics of R\n",
    "* Writing your own R scripts\n",
    "* How to use R to solve problems related to movies data\n",
    "* The fundamentals of R Syntax\n",
    "* Vectors, lists, matrix, arrays and dataframes\n",
    "* Reading and writing data in R"
   ]
  },
  {
   "cell_type": "markdown",
   "id": "bef1d9e9",
   "metadata": {},
   "source": [
    "## Module 4 - Working with data in R"
   ]
  },
  {
   "cell_type": "markdown",
   "id": "88cbcd7d",
   "metadata": {},
   "source": [
    "* Reading CSV and Excel Files\n",
    "* Reading text files\n",
    "* Writing and saving data objects to file in R"
   ]
  },
  {
   "cell_type": "markdown",
   "id": "07155ab1",
   "metadata": {},
   "source": [
    "## Module 5 - Strings and Dates in R"
   ]
  },
  {
   "cell_type": "markdown",
   "id": "efff154d",
   "metadata": {},
   "source": [
    "* String operations in R\n",
    "* Regular Expressions\n",
    "* Dates in R"
   ]
  },
  {
   "cell_type": "markdown",
   "id": "b3a82e42",
   "metadata": {},
   "source": [
    "## Module 1 - R basics"
   ]
  },
  {
   "cell_type": "markdown",
   "id": "7a977546",
   "metadata": {},
   "source": [
    "* Math, Variables, and Strings\n",
    "* Vectors and Factors\n",
    "* Vector operations"
   ]
  },
  {
   "cell_type": "markdown",
   "id": "730b5a1b",
   "metadata": {},
   "source": [
    "### Math, Variables, and Strings"
   ]
  },
  {
   "cell_type": "code",
   "execution_count": 3,
   "id": "d94d8e5d",
   "metadata": {},
   "outputs": [
    {
     "data": {
      "text/html": [
       "260"
      ],
      "text/latex": [
       "260"
      ],
      "text/markdown": [
       "260"
      ],
      "text/plain": [
       "[1] 260"
      ]
     },
     "metadata": {},
     "output_type": "display_data"
    }
   ],
   "source": [
    "# Variable assignment\n",
    "x <- 139 + 121\n",
    "x"
   ]
  },
  {
   "cell_type": "code",
   "execution_count": 4,
   "id": "1b0f568a",
   "metadata": {},
   "outputs": [
    {
     "data": {
      "text/html": [
       "4.33333333333333"
      ],
      "text/latex": [
       "4.33333333333333"
      ],
      "text/markdown": [
       "4.33333333333333"
      ],
      "text/plain": [
       "[1] 4.333333"
      ]
     },
     "metadata": {},
     "output_type": "display_data"
    }
   ],
   "source": [
    "# Number of hours\n",
    "y <- x / 60\n",
    "y"
   ]
  },
  {
   "cell_type": "code",
   "execution_count": 5,
   "id": "d610561e",
   "metadata": {},
   "outputs": [
    {
     "data": {
      "text/html": [
       "4.33333333333333"
      ],
      "text/latex": [
       "4.33333333333333"
      ],
      "text/markdown": [
       "4.33333333333333"
      ],
      "text/plain": [
       "[1] 4.333333"
      ]
     },
     "metadata": {},
     "output_type": "display_data"
    }
   ],
   "source": [
    "# Variable reassignment\n",
    "x <- x / 60\n",
    "x"
   ]
  },
  {
   "cell_type": "markdown",
   "id": "d50e677a",
   "metadata": {},
   "source": [
    "To remove a variable from memory use:\n",
    "\n",
    "`rm(my_variable)`"
   ]
  },
  {
   "cell_type": "code",
   "execution_count": 10,
   "id": "ed852479",
   "metadata": {},
   "outputs": [
    {
     "data": {
      "text/html": [
       "'Toy Story'"
      ],
      "text/latex": [
       "'Toy Story'"
      ],
      "text/markdown": [
       "'Toy Story'"
      ],
      "text/plain": [
       "[1] \"Toy Story\""
      ]
     },
     "metadata": {},
     "output_type": "display_data"
    }
   ],
   "source": [
    "# String in R\n",
    "movie <- 'Toy Story'\n",
    "movie"
   ]
  },
  {
   "cell_type": "markdown",
   "id": "77a7b1c2",
   "metadata": {},
   "source": [
    "### Vectors and Factors"
   ]
  },
  {
   "cell_type": "markdown",
   "id": "8a0980a5",
   "metadata": {},
   "source": [
    "#### Vectors"
   ]
  },
  {
   "cell_type": "markdown",
   "id": "e5ad4093",
   "metadata": {},
   "source": [
    "A **vector** is a one-dimensional array of objects. There is no restriction on the type or number of elements that a vector can contain."
   ]
  },
  {
   "cell_type": "code",
   "execution_count": 1,
   "id": "2e7dd75a",
   "metadata": {},
   "outputs": [
    {
     "data": {
      "text/html": [
       "<style>\n",
       ".list-inline {list-style: none; margin:0; padding: 0}\n",
       ".list-inline>li {display: inline-block}\n",
       ".list-inline>li:not(:last-child)::after {content: \"\\00b7\"; padding: 0 .5ex}\n",
       "</style>\n",
       "<ol class=list-inline><li>1985</li><li>1999</li><li>2010</li><li>2002</li></ol>\n"
      ],
      "text/latex": [
       "\\begin{enumerate*}\n",
       "\\item 1985\n",
       "\\item 1999\n",
       "\\item 2010\n",
       "\\item 2002\n",
       "\\end{enumerate*}\n"
      ],
      "text/markdown": [
       "1. 1985\n",
       "2. 1999\n",
       "3. 2010\n",
       "4. 2002\n",
       "\n",
       "\n"
      ],
      "text/plain": [
       "[1] 1985 1999 2010 2002"
      ]
     },
     "metadata": {},
     "output_type": "display_data"
    }
   ],
   "source": [
    "# Numeric vector\n",
    "c(1985, 1999, 2010, 2002)"
   ]
  },
  {
   "cell_type": "code",
   "execution_count": 2,
   "id": "d877e500",
   "metadata": {},
   "outputs": [
    {
     "data": {
      "text/html": [
       "<style>\n",
       ".list-inline {list-style: none; margin:0; padding: 0}\n",
       ".list-inline>li {display: inline-block}\n",
       ".list-inline>li:not(:last-child)::after {content: \"\\00b7\"; padding: 0 .5ex}\n",
       "</style>\n",
       "<ol class=list-inline><li>'Toy Story'</li><li>'Akira'</li><li>'The Artist'</li><li>'City of God'</li></ol>\n"
      ],
      "text/latex": [
       "\\begin{enumerate*}\n",
       "\\item 'Toy Story'\n",
       "\\item 'Akira'\n",
       "\\item 'The Artist'\n",
       "\\item 'City of God'\n",
       "\\end{enumerate*}\n"
      ],
      "text/markdown": [
       "1. 'Toy Story'\n",
       "2. 'Akira'\n",
       "3. 'The Artist'\n",
       "4. 'City of God'\n",
       "\n",
       "\n"
      ],
      "text/plain": [
       "[1] \"Toy Story\"   \"Akira\"       \"The Artist\"  \"City of God\""
      ]
     },
     "metadata": {},
     "output_type": "display_data"
    }
   ],
   "source": [
    "# Character vector\n",
    "c('Toy Story', 'Akira', 'The Artist', 'City of God')"
   ]
  },
  {
   "cell_type": "code",
   "execution_count": 4,
   "id": "a4cf1ea3",
   "metadata": {},
   "outputs": [
    {
     "data": {
      "text/html": [
       "<style>\n",
       ".list-inline {list-style: none; margin:0; padding: 0}\n",
       ".list-inline>li {display: inline-block}\n",
       ".list-inline>li:not(:last-child)::after {content: \"\\00b7\"; padding: 0 .5ex}\n",
       "</style>\n",
       "<ol class=list-inline><li>7.3</li><li>8.5</li><li>8.3</li><li>7.5</li><li>6.9</li><li>5.2</li><li>8.2</li><li>8</li><li>7.9</li><li>9.3</li></ol>\n"
      ],
      "text/latex": [
       "\\begin{enumerate*}\n",
       "\\item 7.3\n",
       "\\item 8.5\n",
       "\\item 8.3\n",
       "\\item 7.5\n",
       "\\item 6.9\n",
       "\\item 5.2\n",
       "\\item 8.2\n",
       "\\item 8\n",
       "\\item 7.9\n",
       "\\item 9.3\n",
       "\\end{enumerate*}\n"
      ],
      "text/markdown": [
       "1. 7.3\n",
       "2. 8.5\n",
       "3. 8.3\n",
       "4. 7.5\n",
       "5. 6.9\n",
       "6. 5.2\n",
       "7. 8.2\n",
       "8. 8\n",
       "9. 7.9\n",
       "10. 9.3\n",
       "\n",
       "\n"
      ],
      "text/plain": [
       " [1] 7.3 8.5 8.3 7.5 6.9 5.2 8.2 8.0 7.9 9.3"
      ]
     },
     "metadata": {},
     "output_type": "display_data"
    }
   ],
   "source": [
    "# Logical vector\n",
    "movie_ratings <- c(7.3, 8.5, 8.3, 7.5, 6.9, 5.2, 8.2, 8.0, 7.9, 9.3)\n",
    "movie_ratings"
   ]
  },
  {
   "cell_type": "code",
   "execution_count": 5,
   "id": "2774dcbd",
   "metadata": {
    "scrolled": true
   },
   "outputs": [
    {
     "data": {
      "text/html": [
       "<style>\n",
       ".list-inline {list-style: none; margin:0; padding: 0}\n",
       ".list-inline>li {display: inline-block}\n",
       ".list-inline>li:not(:last-child)::after {content: \"\\00b7\"; padding: 0 .5ex}\n",
       "</style>\n",
       "<ol class=list-inline><li>FALSE</li><li>TRUE</li><li>TRUE</li><li>FALSE</li><li>FALSE</li><li>FALSE</li><li>TRUE</li><li>TRUE</li><li>TRUE</li><li>TRUE</li></ol>\n"
      ],
      "text/latex": [
       "\\begin{enumerate*}\n",
       "\\item FALSE\n",
       "\\item TRUE\n",
       "\\item TRUE\n",
       "\\item FALSE\n",
       "\\item FALSE\n",
       "\\item FALSE\n",
       "\\item TRUE\n",
       "\\item TRUE\n",
       "\\item TRUE\n",
       "\\item TRUE\n",
       "\\end{enumerate*}\n"
      ],
      "text/markdown": [
       "1. FALSE\n",
       "2. TRUE\n",
       "3. TRUE\n",
       "4. FALSE\n",
       "5. FALSE\n",
       "6. FALSE\n",
       "7. TRUE\n",
       "8. TRUE\n",
       "9. TRUE\n",
       "10. TRUE\n",
       "\n",
       "\n"
      ],
      "text/plain": [
       " [1] FALSE  TRUE  TRUE FALSE FALSE FALSE  TRUE  TRUE  TRUE  TRUE"
      ]
     },
     "metadata": {},
     "output_type": "display_data"
    }
   ],
   "source": [
    "movie_ratings > 7.5"
   ]
  },
  {
   "cell_type": "markdown",
   "id": "e69c848f",
   "metadata": {},
   "source": [
    "#### Factors"
   ]
  },
  {
   "cell_type": "markdown",
   "id": "862e4c59",
   "metadata": {},
   "source": [
    "**Factors** are variables that can take on a limited number of values"
   ]
  },
  {
   "cell_type": "code",
   "execution_count": 7,
   "id": "f31f849a",
   "metadata": {},
   "outputs": [
    {
     "data": {
      "text/html": [
       "<style>\n",
       ".list-inline {list-style: none; margin:0; padding: 0}\n",
       ".list-inline>li {display: inline-block}\n",
       ".list-inline>li:not(:last-child)::after {content: \"\\00b7\"; padding: 0 .5ex}\n",
       "</style>\n",
       "<ol class=list-inline><li>'comedy'</li><li>'comedy'</li><li>'Animation'</li><li>'Animation'</li><li>'Crime'</li></ol>\n"
      ],
      "text/latex": [
       "\\begin{enumerate*}\n",
       "\\item 'comedy'\n",
       "\\item 'comedy'\n",
       "\\item 'Animation'\n",
       "\\item 'Animation'\n",
       "\\item 'Crime'\n",
       "\\end{enumerate*}\n"
      ],
      "text/markdown": [
       "1. 'comedy'\n",
       "2. 'comedy'\n",
       "3. 'Animation'\n",
       "4. 'Animation'\n",
       "5. 'Crime'\n",
       "\n",
       "\n"
      ],
      "text/plain": [
       "[1] \"comedy\"    \"comedy\"    \"Animation\" \"Animation\" \"Crime\"    "
      ]
     },
     "metadata": {},
     "output_type": "display_data"
    }
   ],
   "source": [
    "genre_vector <- c('comedy', 'comedy', 'Animation', 'Animation', 'Crime')\n",
    "genre_vector"
   ]
  },
  {
   "cell_type": "code",
   "execution_count": 8,
   "id": "e360b223",
   "metadata": {},
   "outputs": [
    {
     "data": {
      "text/html": [
       "<style>\n",
       ".list-inline {list-style: none; margin:0; padding: 0}\n",
       ".list-inline>li {display: inline-block}\n",
       ".list-inline>li:not(:last-child)::after {content: \"\\00b7\"; padding: 0 .5ex}\n",
       "</style>\n",
       "<ol class=list-inline><li>comedy</li><li>comedy</li><li>Animation</li><li>Animation</li><li>Crime</li></ol>\n",
       "\n",
       "<details>\n",
       "\t<summary style=display:list-item;cursor:pointer>\n",
       "\t\t<strong>Levels</strong>:\n",
       "\t</summary>\n",
       "\t<style>\n",
       "\t.list-inline {list-style: none; margin:0; padding: 0}\n",
       "\t.list-inline>li {display: inline-block}\n",
       "\t.list-inline>li:not(:last-child)::after {content: \"\\00b7\"; padding: 0 .5ex}\n",
       "\t</style>\n",
       "\t<ol class=list-inline><li>'Animation'</li><li>'Crime'</li><li>'comedy'</li></ol>\n",
       "</details>"
      ],
      "text/latex": [
       "\\begin{enumerate*}\n",
       "\\item comedy\n",
       "\\item comedy\n",
       "\\item Animation\n",
       "\\item Animation\n",
       "\\item Crime\n",
       "\\end{enumerate*}\n",
       "\n",
       "\\emph{Levels}: \\begin{enumerate*}\n",
       "\\item 'Animation'\n",
       "\\item 'Crime'\n",
       "\\item 'comedy'\n",
       "\\end{enumerate*}\n"
      ],
      "text/markdown": [
       "1. comedy\n",
       "2. comedy\n",
       "3. Animation\n",
       "4. Animation\n",
       "5. Crime\n",
       "\n",
       "\n",
       "\n",
       "**Levels**: 1. 'Animation'\n",
       "2. 'Crime'\n",
       "3. 'comedy'\n",
       "\n",
       "\n"
      ],
      "text/plain": [
       "[1] comedy    comedy    Animation Animation Crime    \n",
       "Levels: Animation Crime comedy"
      ]
     },
     "metadata": {},
     "output_type": "display_data"
    }
   ],
   "source": [
    "# Encode `genre_vector` as a factor:\n",
    "\n",
    "genre_factor <- factor(genre_vector)\n",
    "genre_factor"
   ]
  },
  {
   "cell_type": "markdown",
   "id": "40c1c332",
   "metadata": {},
   "source": [
    "_The output shows 3 levels which correspond to the 3 unique categories of the vector: Animation, comedy, and crime_"
   ]
  },
  {
   "cell_type": "markdown",
   "id": "b7d2a66f",
   "metadata": {},
   "source": [
    "#### Summarizing Factors"
   ]
  },
  {
   "cell_type": "code",
   "execution_count": 9,
   "id": "799abdd8",
   "metadata": {},
   "outputs": [
    {
     "data": {
      "text/plain": [
       "   Length     Class      Mode \n",
       "        5 character character "
      ]
     },
     "metadata": {},
     "output_type": "display_data"
    }
   ],
   "source": [
    "# The summary function on a vector simply provides basic information about the vector's structure and content.\n",
    "\n",
    "summary(genre_vector)"
   ]
  },
  {
   "cell_type": "code",
   "execution_count": 10,
   "id": "b9abb56a",
   "metadata": {},
   "outputs": [
    {
     "data": {
      "text/html": [
       "<style>\n",
       ".dl-inline {width: auto; margin:0; padding: 0}\n",
       ".dl-inline>dt, .dl-inline>dd {float: none; width: auto; display: inline-block}\n",
       ".dl-inline>dt::after {content: \":\\0020\"; padding-right: .5ex}\n",
       ".dl-inline>dt:not(:first-of-type) {padding-left: .5ex}\n",
       "</style><dl class=dl-inline><dt>Animation</dt><dd>2</dd><dt>Crime</dt><dd>1</dd><dt>comedy</dt><dd>2</dd></dl>\n"
      ],
      "text/latex": [
       "\\begin{description*}\n",
       "\\item[Animation] 2\n",
       "\\item[Crime] 1\n",
       "\\item[comedy] 2\n",
       "\\end{description*}\n"
      ],
      "text/markdown": [
       "Animation\n",
       ":   2Crime\n",
       ":   1comedy\n",
       ":   2\n",
       "\n"
      ],
      "text/plain": [
       "Animation     Crime    comedy \n",
       "        2         1         2 "
      ]
     },
     "metadata": {},
     "output_type": "display_data"
    }
   ],
   "source": [
    "# The summary function on a factor shows the number of occurrences of each of the component categories\n",
    "\n",
    "summary(genre_factor)"
   ]
  },
  {
   "cell_type": "markdown",
   "id": "d212393b",
   "metadata": {},
   "source": [
    "There are two types of categorical variables\n",
    "* **Nominal categorical variables**\n",
    "    * do not have any implied order, e.g. there is no clear ordering between movie categories like \"Animation\" and \"comedy\"\n",
    "* **Ordinal variables**\n",
    "    * have an implied order"
   ]
  },
  {
   "cell_type": "markdown",
   "id": "dfcbf150",
   "metadata": {},
   "source": [
    "#### Ordered Factor"
   ]
  },
  {
   "cell_type": "markdown",
   "id": "e1daa1cf",
   "metadata": {},
   "source": [
    "In the following example, the categorical variables have an implied order"
   ]
  },
  {
   "cell_type": "code",
   "execution_count": 12,
   "id": "203d267c",
   "metadata": {},
   "outputs": [
    {
     "data": {
      "text/html": [
       "<style>\n",
       ".list-inline {list-style: none; margin:0; padding: 0}\n",
       ".list-inline>li {display: inline-block}\n",
       ".list-inline>li:not(:last-child)::after {content: \"\\00b7\"; padding: 0 .5ex}\n",
       "</style>\n",
       "<ol class=list-inline><li>'Very short'</li><li>'Short'</li><li>'Medium'</li><li>'Short'</li><li>'Long'</li><li>'Very short'</li><li>'Very Long'</li></ol>\n"
      ],
      "text/latex": [
       "\\begin{enumerate*}\n",
       "\\item 'Very short'\n",
       "\\item 'Short'\n",
       "\\item 'Medium'\n",
       "\\item 'Short'\n",
       "\\item 'Long'\n",
       "\\item 'Very short'\n",
       "\\item 'Very Long'\n",
       "\\end{enumerate*}\n"
      ],
      "text/markdown": [
       "1. 'Very short'\n",
       "2. 'Short'\n",
       "3. 'Medium'\n",
       "4. 'Short'\n",
       "5. 'Long'\n",
       "6. 'Very short'\n",
       "7. 'Very Long'\n",
       "\n",
       "\n"
      ],
      "text/plain": [
       "[1] \"Very short\" \"Short\"      \"Medium\"     \"Short\"      \"Long\"      \n",
       "[6] \"Very short\" \"Very Long\" "
      ]
     },
     "metadata": {},
     "output_type": "display_data"
    }
   ],
   "source": [
    "movielength_vector <- c('Very short', 'Short', 'Medium', 'Short', 'Long', 'Very short', 'Very Long')\n",
    "movielength_vector"
   ]
  },
  {
   "cell_type": "code",
   "execution_count": 15,
   "id": "fda891f1",
   "metadata": {},
   "outputs": [
    {
     "data": {
      "text/html": [
       "<style>\n",
       ".list-inline {list-style: none; margin:0; padding: 0}\n",
       ".list-inline>li {display: inline-block}\n",
       ".list-inline>li:not(:last-child)::after {content: \"\\00b7\"; padding: 0 .5ex}\n",
       "</style>\n",
       "<ol class=list-inline><li>Very short</li><li>Short</li><li>Medium</li><li>Short</li><li>Long</li><li>Very short</li><li>Very Long</li></ol>\n",
       "\n",
       "<details>\n",
       "\t<summary style=display:list-item;cursor:pointer>\n",
       "\t\t<strong>Levels</strong>:\n",
       "\t</summary>\n",
       "\t<style>\n",
       "\t.list-inline {list-style: none; margin:0; padding: 0}\n",
       "\t.list-inline>li {display: inline-block}\n",
       "\t.list-inline>li:not(:last-child)::after {content: \"\\00b7\"; padding: 0 .5ex}\n",
       "\t</style>\n",
       "\t<ol class=list-inline><li>'Very short'</li><li>'Short'</li><li>'Medium'</li><li>'Long'</li><li>'Very Long'</li></ol>\n",
       "</details>"
      ],
      "text/latex": [
       "\\begin{enumerate*}\n",
       "\\item Very short\n",
       "\\item Short\n",
       "\\item Medium\n",
       "\\item Short\n",
       "\\item Long\n",
       "\\item Very short\n",
       "\\item Very Long\n",
       "\\end{enumerate*}\n",
       "\n",
       "\\emph{Levels}: \\begin{enumerate*}\n",
       "\\item 'Very short'\n",
       "\\item 'Short'\n",
       "\\item 'Medium'\n",
       "\\item 'Long'\n",
       "\\item 'Very Long'\n",
       "\\end{enumerate*}\n"
      ],
      "text/markdown": [
       "1. Very short\n",
       "2. Short\n",
       "3. Medium\n",
       "4. Short\n",
       "5. Long\n",
       "6. Very short\n",
       "7. Very Long\n",
       "\n",
       "\n",
       "\n",
       "**Levels**: 1. 'Very short'\n",
       "2. 'Short'\n",
       "3. 'Medium'\n",
       "4. 'Long'\n",
       "5. 'Very Long'\n",
       "\n",
       "\n"
      ],
      "text/plain": [
       "[1] Very short Short      Medium     Short      Long       Very short Very Long \n",
       "Levels: Very short < Short < Medium < Long < Very Long"
      ]
     },
     "metadata": {},
     "output_type": "display_data"
    }
   ],
   "source": [
    "# To encode the above information into a factor, we need to pass two additional arguments:\n",
    "\n",
    "mvlength_factor <- factor(movielength_vector,\n",
    "                          ordered = TRUE,\n",
    "                          levels = c('Very short', 'Short', 'Medium', 'Long', 'Very Long')) # the categories are listed in the order that we want\n",
    "mvlength_factor"
   ]
  },
  {
   "cell_type": "markdown",
   "id": "325e38b8",
   "metadata": {},
   "source": [
    "### Vector Operations"
   ]
  },
  {
   "cell_type": "markdown",
   "id": "9e2abbb9",
   "metadata": {},
   "source": [
    "#### Naming Elements of a Vector"
   ]
  },
  {
   "cell_type": "code",
   "execution_count": 3,
   "id": "7e6d9ec7",
   "metadata": {},
   "outputs": [
    {
     "data": {
      "text/html": [
       "<style>\n",
       ".list-inline {list-style: none; margin:0; padding: 0}\n",
       ".list-inline>li {display: inline-block}\n",
       ".list-inline>li:not(:last-child)::after {content: \"\\00b7\"; padding: 0 .5ex}\n",
       "</style>\n",
       "<ol class=list-inline><li>1985</li><li>1999</li><li>2010</li><li>2002</li></ol>\n"
      ],
      "text/latex": [
       "\\begin{enumerate*}\n",
       "\\item 1985\n",
       "\\item 1999\n",
       "\\item 2010\n",
       "\\item 2002\n",
       "\\end{enumerate*}\n"
      ],
      "text/markdown": [
       "1. 1985\n",
       "2. 1999\n",
       "3. 2010\n",
       "4. 2002\n",
       "\n",
       "\n"
      ],
      "text/plain": [
       "[1] 1985 1999 2010 2002"
      ]
     },
     "metadata": {},
     "output_type": "display_data"
    }
   ],
   "source": [
    "# Vector containing the production years of four movies:\n",
    "\n",
    "year <- c(1985, 1999, 2010, 2002)\n",
    "year"
   ]
  },
  {
   "cell_type": "code",
   "execution_count": 9,
   "id": "38343761",
   "metadata": {},
   "outputs": [
    {
     "data": {
      "text/html": [
       "<strong>Black Swan:</strong> 2010"
      ],
      "text/latex": [
       "\\textbf{Black Swan:} 2010"
      ],
      "text/markdown": [
       "**Black Swan:** 2010"
      ],
      "text/plain": [
       "Black Swan \n",
       "      2010 "
      ]
     },
     "metadata": {},
     "output_type": "display_data"
    }
   ],
   "source": [
    "# Use the names function to map a title to each year:\n",
    "\n",
    "names(year) <- c(\"The Breakfast Club\", \"American Beauty\", \"Black Swan\", \"Chicago\")\n",
    "year[\"Black Swan\"]"
   ]
  },
  {
   "cell_type": "markdown",
   "id": "3d319cef",
   "metadata": {},
   "source": [
    "#### Length of a Vector"
   ]
  },
  {
   "cell_type": "code",
   "execution_count": 12,
   "id": "b3a82066",
   "metadata": {},
   "outputs": [
    {
     "data": {
      "text/html": [
       "4"
      ],
      "text/latex": [
       "4"
      ],
      "text/markdown": [
       "4"
      ],
      "text/plain": [
       "[1] 4"
      ]
     },
     "metadata": {},
     "output_type": "display_data"
    }
   ],
   "source": [
    "year <- c(1985, 1999, 2010, 2002)\n",
    "length(year)"
   ]
  },
  {
   "cell_type": "markdown",
   "id": "e6041892",
   "metadata": {},
   "source": [
    "#### Sort a Vector"
   ]
  },
  {
   "cell_type": "code",
   "execution_count": 14,
   "id": "a002b869",
   "metadata": {},
   "outputs": [
    {
     "data": {
      "text/html": [
       "<style>\n",
       ".dl-inline {width: auto; margin:0; padding: 0}\n",
       ".dl-inline>dt, .dl-inline>dd {float: none; width: auto; display: inline-block}\n",
       ".dl-inline>dt::after {content: \":\\0020\"; padding-right: .5ex}\n",
       ".dl-inline>dt:not(:first-of-type) {padding-left: .5ex}\n",
       "</style><dl class=dl-inline><dt>The Breakfast Club</dt><dd>1985</dd><dt>American Beauty</dt><dd>1999</dd><dt>Chicago</dt><dd>2002</dd><dt>Black Swan</dt><dd>2010</dd></dl>\n"
      ],
      "text/latex": [
       "\\begin{description*}\n",
       "\\item[The Breakfast Club] 1985\n",
       "\\item[American Beauty] 1999\n",
       "\\item[Chicago] 2002\n",
       "\\item[Black Swan] 2010\n",
       "\\end{description*}\n"
      ],
      "text/markdown": [
       "The Breakfast Club\n",
       ":   1985American Beauty\n",
       ":   1999Chicago\n",
       ":   2002Black Swan\n",
       ":   2010\n",
       "\n"
      ],
      "text/plain": [
       "The Breakfast Club    American Beauty            Chicago         Black Swan \n",
       "              1985               1999               2002               2010 "
      ]
     },
     "metadata": {},
     "output_type": "display_data"
    }
   ],
   "source": [
    "year <- c(1985, 1999, 2010, 2002)\n",
    "names(year) <- c(\"The Breakfast Club\", \"American Beauty\", \"Black Swan\", \"Chicago\")\n",
    "year_sorted <- sort(year)\n",
    "year_sorted"
   ]
  },
  {
   "cell_type": "markdown",
   "id": "23395e8b",
   "metadata": {},
   "source": [
    "#### Smallest and Largest Number"
   ]
  },
  {
   "cell_type": "code",
   "execution_count": 18,
   "id": "bdec92d5",
   "metadata": {},
   "outputs": [
    {
     "data": {
      "text/html": [
       "1985"
      ],
      "text/latex": [
       "1985"
      ],
      "text/markdown": [
       "1985"
      ],
      "text/plain": [
       "[1] 1985"
      ]
     },
     "metadata": {},
     "output_type": "display_data"
    },
    {
     "data": {
      "text/html": [
       "2010"
      ],
      "text/latex": [
       "2010"
      ],
      "text/markdown": [
       "2010"
      ],
      "text/plain": [
       "[1] 2010"
      ]
     },
     "metadata": {},
     "output_type": "display_data"
    }
   ],
   "source": [
    "year <- c(1985, 1999, 2010, 2002)\n",
    "min(year)\n",
    "max(year)"
   ]
  },
  {
   "cell_type": "markdown",
   "id": "b6a55780",
   "metadata": {},
   "source": [
    "#### Average of Numbers"
   ]
  },
  {
   "cell_type": "code",
   "execution_count": 19,
   "id": "dc35bf83",
   "metadata": {},
   "outputs": [
    {
     "data": {
      "text/html": [
       "8.4"
      ],
      "text/latex": [
       "8.4"
      ],
      "text/markdown": [
       "8.4"
      ],
      "text/plain": [
       "[1] 8.4"
      ]
     },
     "metadata": {},
     "output_type": "display_data"
    }
   ],
   "source": [
    "# Cost of three movies, in millions:\n",
    "\n",
    "cost_2014 <- c(8.6, 8.5, 8.1)\n",
    "\n",
    "# Use the sum function to find the average cost:\n",
    "\n",
    "sum(cost_2014)/3  "
   ]
  },
  {
   "cell_type": "code",
   "execution_count": 21,
   "id": "af1c4748",
   "metadata": {},
   "outputs": [
    {
     "data": {
      "text/html": [
       "8.4"
      ],
      "text/latex": [
       "8.4"
      ],
      "text/markdown": [
       "8.4"
      ],
      "text/plain": [
       "[1] 8.4"
      ]
     },
     "metadata": {},
     "output_type": "display_data"
    }
   ],
   "source": [
    "# Alternatively use the mean function:\n",
    "\n",
    "mean(cost_2014)"
   ]
  },
  {
   "cell_type": "markdown",
   "id": "f496382e",
   "metadata": {},
   "source": [
    "#### Vector Summary"
   ]
  },
  {
   "cell_type": "code",
   "execution_count": 22,
   "id": "07a0e657",
   "metadata": {},
   "outputs": [
    {
     "data": {
      "text/plain": [
       "   Min. 1st Qu.  Median    Mean 3rd Qu.    Max. \n",
       "   8.10    8.30    8.50    8.40    8.55    8.60 "
      ]
     },
     "metadata": {},
     "output_type": "display_data"
    }
   ],
   "source": [
    "# Display descriptive statistics about the vector:\n",
    "\n",
    "cost_2014 <- c(8.6, 8.5, 8.1)\n",
    "summary(cost_2014)"
   ]
  },
  {
   "cell_type": "markdown",
   "id": "91427e33",
   "metadata": {},
   "source": [
    "#### Vector Index"
   ]
  },
  {
   "cell_type": "code",
   "execution_count": 23,
   "id": "8d89f7e2",
   "metadata": {},
   "outputs": [
    {
     "data": {
      "text/html": [
       "8.5"
      ],
      "text/latex": [
       "8.5"
      ],
      "text/markdown": [
       "8.5"
      ],
      "text/plain": [
       "[1] 8.5"
      ]
     },
     "metadata": {},
     "output_type": "display_data"
    }
   ],
   "source": [
    "# Retrieve the second element of the vector:\n",
    "\n",
    "cost_2014 <- c(8.6, 8.5, 8.1)\n",
    "cost_2014[2]"
   ]
  },
  {
   "cell_type": "code",
   "execution_count": 24,
   "id": "95c50f14",
   "metadata": {},
   "outputs": [
    {
     "data": {
      "text/html": [
       "<style>\n",
       ".list-inline {list-style: none; margin:0; padding: 0}\n",
       ".list-inline>li {display: inline-block}\n",
       ".list-inline>li:not(:last-child)::after {content: \"\\00b7\"; padding: 0 .5ex}\n",
       "</style>\n",
       "<ol class=list-inline><li>8.5</li><li>8.1</li></ol>\n"
      ],
      "text/latex": [
       "\\begin{enumerate*}\n",
       "\\item 8.5\n",
       "\\item 8.1\n",
       "\\end{enumerate*}\n"
      ],
      "text/markdown": [
       "1. 8.5\n",
       "2. 8.1\n",
       "\n",
       "\n"
      ],
      "text/plain": [
       "[1] 8.5 8.1"
      ]
     },
     "metadata": {},
     "output_type": "display_data"
    }
   ],
   "source": [
    "# Retrieve the second and third elements of the vector:\n",
    "\n",
    "cost_2014 <- c(8.6, 8.5, 8.1)\n",
    "cost_2014[c(2,3)]"
   ]
  },
  {
   "cell_type": "code",
   "execution_count": 25,
   "id": "d85302fa",
   "metadata": {},
   "outputs": [
    {
     "data": {
      "text/html": [
       "<style>\n",
       ".list-inline {list-style: none; margin:0; padding: 0}\n",
       ".list-inline>li {display: inline-block}\n",
       ".list-inline>li:not(:last-child)::after {content: \"\\00b7\"; padding: 0 .5ex}\n",
       "</style>\n",
       "<ol class=list-inline><li>8.6</li><li>8.5</li><li>8.1</li></ol>\n"
      ],
      "text/latex": [
       "\\begin{enumerate*}\n",
       "\\item 8.6\n",
       "\\item 8.5\n",
       "\\item 8.1\n",
       "\\end{enumerate*}\n"
      ],
      "text/markdown": [
       "1. 8.6\n",
       "2. 8.5\n",
       "3. 8.1\n",
       "\n",
       "\n"
      ],
      "text/plain": [
       "[1] 8.6 8.5 8.1"
      ]
     },
     "metadata": {},
     "output_type": "display_data"
    }
   ],
   "source": [
    "# Retrieve elements by specifying a range:\n",
    "\n",
    "cost_2014 <- c(8.6, 8.5, 8.1)\n",
    "cost_2014[1:3]"
   ]
  },
  {
   "cell_type": "code",
   "execution_count": 26,
   "id": "a74fada9",
   "metadata": {},
   "outputs": [
    {
     "data": {
      "text/html": [
       "<style>\n",
       ".list-inline {list-style: none; margin:0; padding: 0}\n",
       ".list-inline>li {display: inline-block}\n",
       ".list-inline>li:not(:last-child)::after {content: \"\\00b7\"; padding: 0 .5ex}\n",
       "</style>\n",
       "<ol class=list-inline><li>'Casino'</li><li>'City of God'</li><li>'Jumanji'</li><li>'Toy Story'</li></ol>\n"
      ],
      "text/latex": [
       "\\begin{enumerate*}\n",
       "\\item 'Casino'\n",
       "\\item 'City of God'\n",
       "\\item 'Jumanji'\n",
       "\\item 'Toy Story'\n",
       "\\end{enumerate*}\n"
      ],
      "text/markdown": [
       "1. 'Casino'\n",
       "2. 'City of God'\n",
       "3. 'Jumanji'\n",
       "4. 'Toy Story'\n",
       "\n",
       "\n"
      ],
      "text/plain": [
       "[1] \"Casino\"      \"City of God\" \"Jumanji\"     \"Toy Story\"  "
      ]
     },
     "metadata": {},
     "output_type": "display_data"
    }
   ],
   "source": [
    "# To remove the element in index \"1\":\n",
    "\n",
    "titles <- c(\"Black Swan\", \"Casino\", \"City of God\", \"Jumanji\", \"Toy Story\")\n",
    "titles[-1]"
   ]
  },
  {
   "cell_type": "code",
   "execution_count": 27,
   "id": "b40b054e",
   "metadata": {},
   "outputs": [
    {
     "data": {
      "text/html": [
       "<style>\n",
       ".list-inline {list-style: none; margin:0; padding: 0}\n",
       ".list-inline>li {display: inline-block}\n",
       ".list-inline>li:not(:last-child)::after {content: \"\\00b7\"; padding: 0 .5ex}\n",
       "</style>\n",
       "<ol class=list-inline><li>TRUE</li><li>TRUE</li><li>FALSE</li></ol>\n"
      ],
      "text/latex": [
       "\\begin{enumerate*}\n",
       "\\item TRUE\n",
       "\\item TRUE\n",
       "\\item FALSE\n",
       "\\end{enumerate*}\n"
      ],
      "text/markdown": [
       "1. TRUE\n",
       "2. TRUE\n",
       "3. FALSE\n",
       "\n",
       "\n"
      ],
      "text/plain": [
       "[1]  TRUE  TRUE FALSE"
      ]
     },
     "metadata": {},
     "output_type": "display_data"
    }
   ],
   "source": [
    "# Apply a logical operation on each element:\n",
    "\n",
    "cost_2014 <- c(8.6, 8.5, 8.1)\n",
    "cost_2014 > 8.3"
   ]
  },
  {
   "cell_type": "code",
   "execution_count": 28,
   "id": "00970c34",
   "metadata": {},
   "outputs": [
    {
     "data": {
      "text/html": [
       "<style>\n",
       ".list-inline {list-style: none; margin:0; padding: 0}\n",
       ".list-inline>li {display: inline-block}\n",
       ".list-inline>li:not(:last-child)::after {content: \"\\00b7\"; padding: 0 .5ex}\n",
       "</style>\n",
       "<ol class=list-inline><li>8.6</li><li>8.5</li></ol>\n"
      ],
      "text/latex": [
       "\\begin{enumerate*}\n",
       "\\item 8.6\n",
       "\\item 8.5\n",
       "\\end{enumerate*}\n"
      ],
      "text/markdown": [
       "1. 8.6\n",
       "2. 8.5\n",
       "\n",
       "\n"
      ],
      "text/plain": [
       "[1] 8.6 8.5"
      ]
     },
     "metadata": {},
     "output_type": "display_data"
    }
   ],
   "source": [
    "# Retrieve elements from the vector that are TRUE:\n",
    "\n",
    "cost_2014 <- c(8.6, 8.5, 8.1)\n",
    "cost_2014[cost_2014 > 8.3]"
   ]
  },
  {
   "cell_type": "markdown",
   "id": "0c15b806",
   "metadata": {},
   "source": [
    "#### Missing Values"
   ]
  },
  {
   "cell_type": "markdown",
   "id": "dd74fd09",
   "metadata": {},
   "source": [
    "R handles missing values through the symbol `\"NA\"`. In the following example, indices with missing values might be movies that have an unknown age restriction."
   ]
  },
  {
   "cell_type": "code",
   "execution_count": 30,
   "id": "3d75e190",
   "metadata": {},
   "outputs": [
    {
     "data": {
      "text/html": [
       "<style>\n",
       ".list-inline {list-style: none; margin:0; padding: 0}\n",
       ".list-inline>li {display: inline-block}\n",
       ".list-inline>li:not(:last-child)::after {content: \"\\00b7\"; padding: 0 .5ex}\n",
       "</style>\n",
       "<ol class=list-inline><li>14</li><li>12</li><li>10</li><li>&lt;NA&gt;</li><li>18</li><li>&lt;NA&gt;</li></ol>\n"
      ],
      "text/latex": [
       "\\begin{enumerate*}\n",
       "\\item 14\n",
       "\\item 12\n",
       "\\item 10\n",
       "\\item <NA>\n",
       "\\item 18\n",
       "\\item <NA>\n",
       "\\end{enumerate*}\n"
      ],
      "text/markdown": [
       "1. 14\n",
       "2. 12\n",
       "3. 10\n",
       "4. &lt;NA&gt;\n",
       "5. 18\n",
       "6. &lt;NA&gt;\n",
       "\n",
       "\n"
      ],
      "text/plain": [
       "[1] 14 12 10 NA 18 NA"
      ]
     },
     "metadata": {},
     "output_type": "display_data"
    }
   ],
   "source": [
    "age_restriction <- c(14, 12, 10, NA, 18, NA)\n",
    "age_restriction"
   ]
  },
  {
   "cell_type": "markdown",
   "id": "77cad320",
   "metadata": {},
   "source": [
    "#### Vector Arithmetic"
   ]
  },
  {
   "cell_type": "markdown",
   "id": "c4ede4a3",
   "metadata": {},
   "source": [
    "All vector arithmetic operations are performed **element-wise**. The first element, 28, is simply the product of the **first element of vector 1, and the first element of vector 2**, and so on."
   ]
  },
  {
   "cell_type": "code",
   "execution_count": 33,
   "id": "38c5f8f9",
   "metadata": {},
   "outputs": [
    {
     "data": {
      "text/html": [
       "<style>\n",
       ".list-inline {list-style: none; margin:0; padding: 0}\n",
       ".list-inline>li {display: inline-block}\n",
       ".list-inline>li:not(:last-child)::after {content: \"\\00b7\"; padding: 0 .5ex}\n",
       "</style>\n",
       "<ol class=list-inline><li>28</li><li>48</li><li>0</li><li>20</li><li>108</li><li>54</li></ol>\n"
      ],
      "text/latex": [
       "\\begin{enumerate*}\n",
       "\\item 28\n",
       "\\item 48\n",
       "\\item 0\n",
       "\\item 20\n",
       "\\item 108\n",
       "\\item 54\n",
       "\\end{enumerate*}\n"
      ],
      "text/markdown": [
       "1. 28\n",
       "2. 48\n",
       "3. 0\n",
       "4. 20\n",
       "5. 108\n",
       "6. 54\n",
       "\n",
       "\n"
      ],
      "text/plain": [
       "[1]  28  48   0  20 108  54"
      ]
     },
     "metadata": {},
     "output_type": "display_data"
    }
   ],
   "source": [
    "age_restriction <- c(14, 16, 12, 10, 18, 18)\n",
    "sequences <- c(2, 3, 0, 2, 6, 3)\n",
    "\n",
    "multiply <- age_restriction * sequences\n",
    "multiply"
   ]
  },
  {
   "cell_type": "code",
   "execution_count": 34,
   "id": "edce179b",
   "metadata": {},
   "outputs": [
    {
     "data": {
      "text/html": [
       "<style>\n",
       ".list-inline {list-style: none; margin:0; padding: 0}\n",
       ".list-inline>li {display: inline-block}\n",
       ".list-inline>li:not(:last-child)::after {content: \"\\00b7\"; padding: 0 .5ex}\n",
       "</style>\n",
       "<ol class=list-inline><li>86</li><li>85</li><li>81</li></ol>\n"
      ],
      "text/latex": [
       "\\begin{enumerate*}\n",
       "\\item 86\n",
       "\\item 85\n",
       "\\item 81\n",
       "\\end{enumerate*}\n"
      ],
      "text/markdown": [
       "1. 86\n",
       "2. 85\n",
       "3. 81\n",
       "\n",
       "\n"
      ],
      "text/plain": [
       "[1] 86 85 81"
      ]
     },
     "metadata": {},
     "output_type": "display_data"
    }
   ],
   "source": [
    "# Each element is multiplied by 10\n",
    "\n",
    "cost_2014 <- c(8.6, 8.5, 8.1)\n",
    "cost_2014 * 10"
   ]
  },
  {
   "cell_type": "markdown",
   "id": "a2fe661e",
   "metadata": {},
   "source": [
    "## Review Questions"
   ]
  },
  {
   "cell_type": "markdown",
   "id": "ba46f1af",
   "metadata": {},
   "source": [
    "1. Vectors in R can be which of the following types?\n",
    "\n",
    "* **Answer:** Character, Logical, Numeric\n",
    "\n",
    "2. What would be the output in R given: `c(1,2) == 1`?\n",
    "\n",
    "* **Answer:** TRUE FALSE\n",
    "\n",
    "3. How would you retrieve the items larger than 5 from the following vector: `costs <- c(3, 15, 3, 10)`?\n",
    "\n",
    "* **Answer:** `costs[costs > 5]`"
   ]
  },
  {
   "cell_type": "code",
   "execution_count": null,
   "id": "1a57864c",
   "metadata": {},
   "outputs": [],
   "source": []
  }
 ],
 "metadata": {
  "kernelspec": {
   "display_name": "R",
   "language": "R",
   "name": "ir"
  },
  "language_info": {
   "codemirror_mode": "r",
   "file_extension": ".r",
   "mimetype": "text/x-r-source",
   "name": "R",
   "pygments_lexer": "r",
   "version": "4.1.0"
  },
  "toc": {
   "base_numbering": 1,
   "nav_menu": {},
   "number_sections": false,
   "sideBar": true,
   "skip_h1_title": true,
   "title_cell": "Contents",
   "title_sidebar": "Contents",
   "toc_cell": true,
   "toc_position": {},
   "toc_section_display": true,
   "toc_window_display": false
  }
 },
 "nbformat": 4,
 "nbformat_minor": 5
}
