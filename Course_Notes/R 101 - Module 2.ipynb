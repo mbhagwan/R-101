{
 "cells": [
  {
   "cell_type": "markdown",
   "id": "2a2cfd28",
   "metadata": {
    "toc": true
   },
   "source": [
    "<h1>Contents<span class=\"tocSkip\"></span></h1>\n",
    "<div class=\"toc\"><ul class=\"toc-item\"><li><span><a href=\"#Arrays-&amp;-Matrices\" data-toc-modified-id=\"Arrays-&amp;-Matrices-1\">Arrays &amp; Matrices</a></span><ul class=\"toc-item\"><li><span><a href=\"#Arrays\" data-toc-modified-id=\"Arrays-1.1\">Arrays</a></span></li><li><span><a href=\"#Accessing-an-Array\" data-toc-modified-id=\"Accessing-an-Array-1.2\">Accessing an Array</a></span></li><li><span><a href=\"#Matrices\" data-toc-modified-id=\"Matrices-1.3\">Matrices</a></span></li><li><span><a href=\"#Accessing-a-Matrix\" data-toc-modified-id=\"Accessing-a-Matrix-1.4\">Accessing a Matrix</a></span></li></ul></li><li><span><a href=\"#Lists\" data-toc-modified-id=\"Lists-2\">Lists</a></span><ul class=\"toc-item\"><li><span><a href=\"#Accessing-items-in-a-List\" data-toc-modified-id=\"Accessing-items-in-a-List-2.1\">Accessing items in a List</a></span></li><li><span><a href=\"#Named-Lists\" data-toc-modified-id=\"Named-Lists-2.2\">Named Lists</a></span></li><li><span><a href=\"#Accessing-Named-Lists\" data-toc-modified-id=\"Accessing-Named-Lists-2.3\">Accessing Named Lists</a></span></li><li><span><a href=\"#Adding-items\" data-toc-modified-id=\"Adding-items-2.4\">Adding items</a></span></li><li><span><a href=\"#Modifying-items\" data-toc-modified-id=\"Modifying-items-2.5\">Modifying items</a></span></li><li><span><a href=\"#Removing-items\" data-toc-modified-id=\"Removing-items-2.6\">Removing items</a></span></li></ul></li><li><span><a href=\"#Data-Frames\" data-toc-modified-id=\"Data-Frames-3\">Data Frames</a></span><ul class=\"toc-item\"><li><span><a href=\"#Accessing-Data-Frames\" data-toc-modified-id=\"Accessing-Data-Frames-3.1\">Accessing Data Frames</a></span></li><li><span><a href=\"#Data-Frame-Structure\" data-toc-modified-id=\"Data-Frame-Structure-3.2\">Data Frame Structure</a></span></li><li><span><a href=\"#Head-and-Tail\" data-toc-modified-id=\"Head-and-Tail-3.3\">Head and Tail</a></span></li><li><span><a href=\"#Inserting-a-new-column\" data-toc-modified-id=\"Inserting-a-new-column-3.4\">Inserting a new column</a></span></li><li><span><a href=\"#Inserting-a-new-row\" data-toc-modified-id=\"Inserting-a-new-row-3.5\">Inserting a new row</a></span></li><li><span><a href=\"#Deleting-Rows\" data-toc-modified-id=\"Deleting-Rows-3.6\">Deleting Rows</a></span></li><li><span><a href=\"#Deleting-Columns\" data-toc-modified-id=\"Deleting-Columns-3.7\">Deleting Columns</a></span></li></ul></li><li><span><a href=\"#Review-Questions\" data-toc-modified-id=\"Review-Questions-4\">Review Questions</a></span></li></ul></div>"
   ]
  },
  {
   "cell_type": "markdown",
   "id": "387d4fea",
   "metadata": {},
   "source": [
    "# R 101"
   ]
  },
  {
   "cell_type": "markdown",
   "id": "86e778c5",
   "metadata": {},
   "source": [
    "# Module 2 - Data structures in R"
   ]
  },
  {
   "cell_type": "markdown",
   "id": "c9276004",
   "metadata": {},
   "source": [
    "* Arrays & Matrices\n",
    "* Lists\n",
    "* Dataframes"
   ]
  },
  {
   "cell_type": "markdown",
   "id": "9cc2f18a",
   "metadata": {},
   "source": [
    "## Arrays & Matrices"
   ]
  },
  {
   "cell_type": "markdown",
   "id": "60267751",
   "metadata": {},
   "source": [
    "### Arrays"
   ]
  },
  {
   "cell_type": "markdown",
   "id": "17288816",
   "metadata": {},
   "source": [
    "* An array is a structure that contains data of the same type\n",
    "* Arrays can be multi-dimensional, so the data can be contained in multiple rows and columns"
   ]
  },
  {
   "cell_type": "code",
   "execution_count": 1,
   "id": "aa7fc61f",
   "metadata": {
    "scrolled": true
   },
   "outputs": [
    {
     "data": {
      "text/html": [
       "<table class=\"dataframe\">\n",
       "<caption>A matrix: 3 × 3 of type chr</caption>\n",
       "<tbody>\n",
       "\t<tr><td>Akira    </td><td>The Wave </td><td>The Ring  </td></tr>\n",
       "\t<tr><td>Toy Story</td><td>Whiplash </td><td>The Artist</td></tr>\n",
       "\t<tr><td>Room     </td><td>Star Wars</td><td>Jumanji   </td></tr>\n",
       "</tbody>\n",
       "</table>\n"
      ],
      "text/latex": [
       "A matrix: 3 × 3 of type chr\n",
       "\\begin{tabular}{lll}\n",
       "\t Akira     & The Wave  & The Ring  \\\\\n",
       "\t Toy Story & Whiplash  & The Artist\\\\\n",
       "\t Room      & Star Wars & Jumanji   \\\\\n",
       "\\end{tabular}\n"
      ],
      "text/markdown": [
       "\n",
       "A matrix: 3 × 3 of type chr\n",
       "\n",
       "| Akira     | The Wave  | The Ring   |\n",
       "| Toy Story | Whiplash  | The Artist |\n",
       "| Room      | Star Wars | Jumanji    |\n",
       "\n"
      ],
      "text/plain": [
       "     [,1]      [,2]      [,3]      \n",
       "[1,] Akira     The Wave  The Ring  \n",
       "[2,] Toy Story Whiplash  The Artist\n",
       "[3,] Room      Star Wars Jumanji   "
      ]
     },
     "metadata": {},
     "output_type": "display_data"
    }
   ],
   "source": [
    "# In order to create an array, first create a vector:\n",
    "movie_vector <- c(\"Akira\", \"Toy Story\", \"Room\", \"The Wave\", \"Whiplash\", \"Star Wars\", \"The Ring\", \"The Artist\", \"Jumanji\")\n",
    "\n",
    "movie_array <- array(movie_vector, dim = c(3,3))  # The second argument specifies the dimension (i.e. 3 rows and 3 cols)\n",
    "movie_array"
   ]
  },
  {
   "cell_type": "markdown",
   "id": "f329467a",
   "metadata": {},
   "source": [
    "### Accessing an Array"
   ]
  },
  {
   "cell_type": "code",
   "execution_count": 2,
   "id": "d3133fc8",
   "metadata": {},
   "outputs": [
    {
     "data": {
      "text/html": [
       "'Whiplash'"
      ],
      "text/latex": [
       "'Whiplash'"
      ],
      "text/markdown": [
       "'Whiplash'"
      ],
      "text/plain": [
       "[1] \"Whiplash\""
      ]
     },
     "metadata": {},
     "output_type": "display_data"
    }
   ],
   "source": [
    "# To extract a particular element, e.g. \"Whiplash\"\n",
    "\n",
    "movie_array[2,2]"
   ]
  },
  {
   "cell_type": "code",
   "execution_count": 3,
   "id": "5d762738",
   "metadata": {},
   "outputs": [
    {
     "data": {
      "text/html": [
       "<style>\n",
       ".list-inline {list-style: none; margin:0; padding: 0}\n",
       ".list-inline>li {display: inline-block}\n",
       ".list-inline>li:not(:last-child)::after {content: \"\\00b7\"; padding: 0 .5ex}\n",
       "</style>\n",
       "<ol class=list-inline><li>'Akira'</li><li>'The Wave'</li><li>'The Ring'</li></ol>\n"
      ],
      "text/latex": [
       "\\begin{enumerate*}\n",
       "\\item 'Akira'\n",
       "\\item 'The Wave'\n",
       "\\item 'The Ring'\n",
       "\\end{enumerate*}\n"
      ],
      "text/markdown": [
       "1. 'Akira'\n",
       "2. 'The Wave'\n",
       "3. 'The Ring'\n",
       "\n",
       "\n"
      ],
      "text/plain": [
       "[1] \"Akira\"    \"The Wave\" \"The Ring\""
      ]
     },
     "metadata": {},
     "output_type": "display_data"
    }
   ],
   "source": [
    "# To extract an entire row, e.g. the entire first row\n",
    "\n",
    "movie_array[1,]  # specify row but leave the column empty"
   ]
  },
  {
   "cell_type": "code",
   "execution_count": 4,
   "id": "80947829",
   "metadata": {},
   "outputs": [
    {
     "data": {
      "text/html": [
       "<style>\n",
       ".list-inline {list-style: none; margin:0; padding: 0}\n",
       ".list-inline>li {display: inline-block}\n",
       ".list-inline>li:not(:last-child)::after {content: \"\\00b7\"; padding: 0 .5ex}\n",
       "</style>\n",
       "<ol class=list-inline><li>'The Wave'</li><li>'Whiplash'</li><li>'Star Wars'</li></ol>\n"
      ],
      "text/latex": [
       "\\begin{enumerate*}\n",
       "\\item 'The Wave'\n",
       "\\item 'Whiplash'\n",
       "\\item 'Star Wars'\n",
       "\\end{enumerate*}\n"
      ],
      "text/markdown": [
       "1. 'The Wave'\n",
       "2. 'Whiplash'\n",
       "3. 'Star Wars'\n",
       "\n",
       "\n"
      ],
      "text/plain": [
       "[1] \"The Wave\"  \"Whiplash\"  \"Star Wars\""
      ]
     },
     "metadata": {},
     "output_type": "display_data"
    }
   ],
   "source": [
    "# To extract an entire column, e.g the entire 2nd column\n",
    "\n",
    "movie_array[,2]  # specify column but leave the row empty"
   ]
  },
  {
   "cell_type": "markdown",
   "id": "bc21863c",
   "metadata": {},
   "source": [
    "### Matrices"
   ]
  },
  {
   "cell_type": "markdown",
   "id": "c026a5c3",
   "metadata": {},
   "source": [
    "* Similar in structure to an array\n",
    "* Must be two dimensional"
   ]
  },
  {
   "cell_type": "code",
   "execution_count": 5,
   "id": "8c3dbded",
   "metadata": {},
   "outputs": [
    {
     "data": {
      "text/html": [
       "<table class=\"dataframe\">\n",
       "<caption>A matrix: 3 × 3 of type chr</caption>\n",
       "<tbody>\n",
       "\t<tr><td>Akira    </td><td>The Wave </td><td>The Ring  </td></tr>\n",
       "\t<tr><td>Toy Story</td><td>Whiplash </td><td>The Artist</td></tr>\n",
       "\t<tr><td>Room     </td><td>Star Wars</td><td>Jumanji   </td></tr>\n",
       "</tbody>\n",
       "</table>\n"
      ],
      "text/latex": [
       "A matrix: 3 × 3 of type chr\n",
       "\\begin{tabular}{lll}\n",
       "\t Akira     & The Wave  & The Ring  \\\\\n",
       "\t Toy Story & Whiplash  & The Artist\\\\\n",
       "\t Room      & Star Wars & Jumanji   \\\\\n",
       "\\end{tabular}\n"
      ],
      "text/markdown": [
       "\n",
       "A matrix: 3 × 3 of type chr\n",
       "\n",
       "| Akira     | The Wave  | The Ring   |\n",
       "| Toy Story | Whiplash  | The Artist |\n",
       "| Room      | Star Wars | Jumanji    |\n",
       "\n"
      ],
      "text/plain": [
       "     [,1]      [,2]      [,3]      \n",
       "[1,] Akira     The Wave  The Ring  \n",
       "[2,] Toy Story Whiplash  The Artist\n",
       "[3,] Room      Star Wars Jumanji   "
      ]
     },
     "metadata": {},
     "output_type": "display_data"
    }
   ],
   "source": [
    "movie_vector <- c(\"Akira\", \"Toy Story\", \"Room\", \"The Wave\", \"Whiplash\", \"Star Wars\", \"The Ring\", \"The Artist\", \"Jumanji\")\n",
    "\n",
    "# To build a three by three matrix:\n",
    "movie_matrix <- matrix(movie_vector, nrow = 3, ncol = 3)\n",
    "movie_matrix"
   ]
  },
  {
   "cell_type": "code",
   "execution_count": 6,
   "id": "6bcad514",
   "metadata": {},
   "outputs": [
    {
     "data": {
      "text/html": [
       "<table class=\"dataframe\">\n",
       "<caption>A matrix: 3 × 3 of type chr</caption>\n",
       "<tbody>\n",
       "\t<tr><td>Akira   </td><td>Toy Story </td><td>Room     </td></tr>\n",
       "\t<tr><td>The Wave</td><td>Whiplash  </td><td>Star Wars</td></tr>\n",
       "\t<tr><td>The Ring</td><td>The Artist</td><td>Jumanji  </td></tr>\n",
       "</tbody>\n",
       "</table>\n"
      ],
      "text/latex": [
       "A matrix: 3 × 3 of type chr\n",
       "\\begin{tabular}{lll}\n",
       "\t Akira    & Toy Story  & Room     \\\\\n",
       "\t The Wave & Whiplash   & Star Wars\\\\\n",
       "\t The Ring & The Artist & Jumanji  \\\\\n",
       "\\end{tabular}\n"
      ],
      "text/markdown": [
       "\n",
       "A matrix: 3 × 3 of type chr\n",
       "\n",
       "| Akira    | Toy Story  | Room      |\n",
       "| The Wave | Whiplash   | Star Wars |\n",
       "| The Ring | The Artist | Jumanji   |\n",
       "\n"
      ],
      "text/plain": [
       "     [,1]     [,2]       [,3]     \n",
       "[1,] Akira    Toy Story  Room     \n",
       "[2,] The Wave Whiplash   Star Wars\n",
       "[3,] The Ring The Artist Jumanji  "
      ]
     },
     "metadata": {},
     "output_type": "display_data"
    }
   ],
   "source": [
    "# By default, the matrix is arranged by columns. To arrange by rows:\n",
    "\n",
    "movie_matrix <- matrix(movie_vector, nrow = 3, ncol = 3, byrow = TRUE)\n",
    "movie_matrix"
   ]
  },
  {
   "cell_type": "markdown",
   "id": "6cf8a765",
   "metadata": {},
   "source": [
    "### Accessing a Matrix"
   ]
  },
  {
   "cell_type": "code",
   "execution_count": 7,
   "id": "763b6918",
   "metadata": {},
   "outputs": [
    {
     "data": {
      "text/html": [
       "<table class=\"dataframe\">\n",
       "<caption>A matrix: 2 × 2 of type chr</caption>\n",
       "<tbody>\n",
       "\t<tr><td>The Wave</td><td>Whiplash  </td></tr>\n",
       "\t<tr><td>The Ring</td><td>The Artist</td></tr>\n",
       "</tbody>\n",
       "</table>\n"
      ],
      "text/latex": [
       "A matrix: 2 × 2 of type chr\n",
       "\\begin{tabular}{ll}\n",
       "\t The Wave & Whiplash  \\\\\n",
       "\t The Ring & The Artist\\\\\n",
       "\\end{tabular}\n"
      ],
      "text/markdown": [
       "\n",
       "A matrix: 2 × 2 of type chr\n",
       "\n",
       "| The Wave | Whiplash   |\n",
       "| The Ring | The Artist |\n",
       "\n"
      ],
      "text/plain": [
       "     [,1]     [,2]      \n",
       "[1,] The Wave Whiplash  \n",
       "[2,] The Ring The Artist"
      ]
     },
     "metadata": {},
     "output_type": "display_data"
    }
   ],
   "source": [
    "# To access a subset of a matrix:\n",
    "\n",
    "movie_matrix[2:3, 1:2]  # Extract the values in rows 2 to 3, and in cols 1 to 2"
   ]
  },
  {
   "cell_type": "markdown",
   "id": "a8dc205e",
   "metadata": {},
   "source": [
    "## Lists"
   ]
  },
  {
   "cell_type": "markdown",
   "id": "95ffcf83",
   "metadata": {},
   "source": [
    "* a collection of objects, similar to a vector\n",
    "* the elements of a list can differ in terms of data type"
   ]
  },
  {
   "cell_type": "code",
   "execution_count": 8,
   "id": "e12e62d7",
   "metadata": {},
   "outputs": [
    {
     "data": {
      "text/html": [
       "<ol>\n",
       "\t<li>'Toy Story'</li>\n",
       "\t<li>1995</li>\n",
       "\t<li><style>\n",
       ".list-inline {list-style: none; margin:0; padding: 0}\n",
       ".list-inline>li {display: inline-block}\n",
       ".list-inline>li:not(:last-child)::after {content: \"\\00b7\"; padding: 0 .5ex}\n",
       "</style>\n",
       "<ol class=list-inline><li>'Animation'</li><li>'Adventure'</li><li>'Comedy'</li></ol>\n",
       "</li>\n",
       "</ol>\n"
      ],
      "text/latex": [
       "\\begin{enumerate}\n",
       "\\item 'Toy Story'\n",
       "\\item 1995\n",
       "\\item \\begin{enumerate*}\n",
       "\\item 'Animation'\n",
       "\\item 'Adventure'\n",
       "\\item 'Comedy'\n",
       "\\end{enumerate*}\n",
       "\n",
       "\\end{enumerate}\n"
      ],
      "text/markdown": [
       "1. 'Toy Story'\n",
       "2. 1995\n",
       "3. 1. 'Animation'\n",
       "2. 'Adventure'\n",
       "3. 'Comedy'\n",
       "\n",
       "\n",
       "\n",
       "\n",
       "\n"
      ],
      "text/plain": [
       "[[1]]\n",
       "[1] \"Toy Story\"\n",
       "\n",
       "[[2]]\n",
       "[1] 1995\n",
       "\n",
       "[[3]]\n",
       "[1] \"Animation\" \"Adventure\" \"Comedy\"   \n"
      ]
     },
     "metadata": {},
     "output_type": "display_data"
    }
   ],
   "source": [
    "movie <- list(\"Toy Story\", 1995, c(\"Animation\", \"Adventure\", \"Comedy\"))\n",
    "movie"
   ]
  },
  {
   "cell_type": "markdown",
   "id": "3e3c7748",
   "metadata": {},
   "source": [
    "### Accessing items in a List"
   ]
  },
  {
   "cell_type": "code",
   "execution_count": 9,
   "id": "fb2bec6e",
   "metadata": {},
   "outputs": [
    {
     "data": {
      "text/html": [
       "<ol>\n",
       "\t<li>1995</li>\n",
       "</ol>\n"
      ],
      "text/latex": [
       "\\begin{enumerate}\n",
       "\\item 1995\n",
       "\\end{enumerate}\n"
      ],
      "text/markdown": [
       "1. 1995\n",
       "\n",
       "\n"
      ],
      "text/plain": [
       "[[1]]\n",
       "[1] 1995\n"
      ]
     },
     "metadata": {},
     "output_type": "display_data"
    }
   ],
   "source": [
    "# To access the second element inside the list:\n",
    "movie[2]"
   ]
  },
  {
   "cell_type": "code",
   "execution_count": 10,
   "id": "217a70d9",
   "metadata": {},
   "outputs": [
    {
     "data": {
      "text/html": [
       "<ol>\n",
       "\t<li>1995</li>\n",
       "\t<li><style>\n",
       ".list-inline {list-style: none; margin:0; padding: 0}\n",
       ".list-inline>li {display: inline-block}\n",
       ".list-inline>li:not(:last-child)::after {content: \"\\00b7\"; padding: 0 .5ex}\n",
       "</style>\n",
       "<ol class=list-inline><li>'Animation'</li><li>'Adventure'</li><li>'Comedy'</li></ol>\n",
       "</li>\n",
       "</ol>\n"
      ],
      "text/latex": [
       "\\begin{enumerate}\n",
       "\\item 1995\n",
       "\\item \\begin{enumerate*}\n",
       "\\item 'Animation'\n",
       "\\item 'Adventure'\n",
       "\\item 'Comedy'\n",
       "\\end{enumerate*}\n",
       "\n",
       "\\end{enumerate}\n"
      ],
      "text/markdown": [
       "1. 1995\n",
       "2. 1. 'Animation'\n",
       "2. 'Adventure'\n",
       "3. 'Comedy'\n",
       "\n",
       "\n",
       "\n",
       "\n",
       "\n"
      ],
      "text/plain": [
       "[[1]]\n",
       "[1] 1995\n",
       "\n",
       "[[2]]\n",
       "[1] \"Animation\" \"Adventure\" \"Comedy\"   \n"
      ]
     },
     "metadata": {},
     "output_type": "display_data"
    }
   ],
   "source": [
    "# To access all elements between index 2 and index 3:\n",
    "movie[2:3]"
   ]
  },
  {
   "cell_type": "markdown",
   "id": "193b1e9f",
   "metadata": {},
   "source": [
    "### Named Lists"
   ]
  },
  {
   "cell_type": "code",
   "execution_count": 11,
   "id": "fe65e6f3",
   "metadata": {},
   "outputs": [
    {
     "data": {
      "text/html": [
       "<dl>\n",
       "\t<dt>$name</dt>\n",
       "\t\t<dd>'Toy Story'</dd>\n",
       "\t<dt>$year</dt>\n",
       "\t\t<dd>1995</dd>\n",
       "\t<dt>$genre</dt>\n",
       "\t\t<dd><style>\n",
       ".list-inline {list-style: none; margin:0; padding: 0}\n",
       ".list-inline>li {display: inline-block}\n",
       ".list-inline>li:not(:last-child)::after {content: \"\\00b7\"; padding: 0 .5ex}\n",
       "</style>\n",
       "<ol class=list-inline><li>'Animation'</li><li>'Adventure'</li><li>'Comedy'</li></ol>\n",
       "</dd>\n",
       "</dl>\n"
      ],
      "text/latex": [
       "\\begin{description}\n",
       "\\item[\\$name] 'Toy Story'\n",
       "\\item[\\$year] 1995\n",
       "\\item[\\$genre] \\begin{enumerate*}\n",
       "\\item 'Animation'\n",
       "\\item 'Adventure'\n",
       "\\item 'Comedy'\n",
       "\\end{enumerate*}\n",
       "\n",
       "\\end{description}\n"
      ],
      "text/markdown": [
       "$name\n",
       ":   'Toy Story'\n",
       "$year\n",
       ":   1995\n",
       "$genre\n",
       ":   1. 'Animation'\n",
       "2. 'Adventure'\n",
       "3. 'Comedy'\n",
       "\n",
       "\n",
       "\n",
       "\n",
       "\n"
      ],
      "text/plain": [
       "$name\n",
       "[1] \"Toy Story\"\n",
       "\n",
       "$year\n",
       "[1] 1995\n",
       "\n",
       "$genre\n",
       "[1] \"Animation\" \"Adventure\" \"Comedy\"   \n"
      ]
     },
     "metadata": {},
     "output_type": "display_data"
    }
   ],
   "source": [
    "# To provide each of the individual variables with a name:\n",
    "\n",
    "movie <- list(name = \"Toy Story\", year = 1995, genre = c(\"Animation\", \"Adventure\", \"Comedy\"))\n",
    "movie"
   ]
  },
  {
   "cell_type": "markdown",
   "id": "8192fe25",
   "metadata": {},
   "source": [
    "### Accessing Named Lists"
   ]
  },
  {
   "cell_type": "code",
   "execution_count": 12,
   "id": "4cb21efe",
   "metadata": {},
   "outputs": [
    {
     "data": {
      "text/html": [
       "<style>\n",
       ".list-inline {list-style: none; margin:0; padding: 0}\n",
       ".list-inline>li {display: inline-block}\n",
       ".list-inline>li:not(:last-child)::after {content: \"\\00b7\"; padding: 0 .5ex}\n",
       "</style>\n",
       "<ol class=list-inline><li>'Animation'</li><li>'Adventure'</li><li>'Comedy'</li></ol>\n"
      ],
      "text/latex": [
       "\\begin{enumerate*}\n",
       "\\item 'Animation'\n",
       "\\item 'Adventure'\n",
       "\\item 'Comedy'\n",
       "\\end{enumerate*}\n"
      ],
      "text/markdown": [
       "1. 'Animation'\n",
       "2. 'Adventure'\n",
       "3. 'Comedy'\n",
       "\n",
       "\n"
      ],
      "text/plain": [
       "[1] \"Animation\" \"Adventure\" \"Comedy\"   "
      ]
     },
     "metadata": {},
     "output_type": "display_data"
    }
   ],
   "source": [
    "# To access a list element by name:\n",
    "movie$genre"
   ]
  },
  {
   "cell_type": "code",
   "execution_count": 13,
   "id": "ef01487b",
   "metadata": {},
   "outputs": [
    {
     "data": {
      "text/html": [
       "<strong>$genre</strong> = <style>\n",
       ".list-inline {list-style: none; margin:0; padding: 0}\n",
       ".list-inline>li {display: inline-block}\n",
       ".list-inline>li:not(:last-child)::after {content: \"\\00b7\"; padding: 0 .5ex}\n",
       "</style>\n",
       "<ol class=list-inline><li>'Animation'</li><li>'Adventure'</li><li>'Comedy'</li></ol>\n"
      ],
      "text/latex": [
       "\\textbf{\\$genre} = \\begin{enumerate*}\n",
       "\\item 'Animation'\n",
       "\\item 'Adventure'\n",
       "\\item 'Comedy'\n",
       "\\end{enumerate*}\n"
      ],
      "text/markdown": [
       "**$genre** = 1. 'Animation'\n",
       "2. 'Adventure'\n",
       "3. 'Comedy'\n",
       "\n",
       "\n"
      ],
      "text/plain": [
       "$genre\n",
       "[1] \"Animation\" \"Adventure\" \"Comedy\"   \n"
      ]
     },
     "metadata": {},
     "output_type": "display_data"
    }
   ],
   "source": [
    "# Alternatively:\n",
    "movie[\"genre\"]"
   ]
  },
  {
   "cell_type": "markdown",
   "id": "2d15cb06",
   "metadata": {},
   "source": [
    "### Adding items"
   ]
  },
  {
   "cell_type": "code",
   "execution_count": 14,
   "id": "eda39a51",
   "metadata": {},
   "outputs": [
    {
     "data": {
      "text/html": [
       "<dl>\n",
       "\t<dt>$name</dt>\n",
       "\t\t<dd>'Toy Story'</dd>\n",
       "\t<dt>$year</dt>\n",
       "\t\t<dd>1995</dd>\n",
       "\t<dt>$genre</dt>\n",
       "\t\t<dd><style>\n",
       ".list-inline {list-style: none; margin:0; padding: 0}\n",
       ".list-inline>li {display: inline-block}\n",
       ".list-inline>li:not(:last-child)::after {content: \"\\00b7\"; padding: 0 .5ex}\n",
       "</style>\n",
       "<ol class=list-inline><li>'Animation'</li><li>'Adventure'</li><li>'Comedy'</li></ol>\n",
       "</dd>\n",
       "\t<dt>$age</dt>\n",
       "\t\t<dd>5</dd>\n",
       "</dl>\n"
      ],
      "text/latex": [
       "\\begin{description}\n",
       "\\item[\\$name] 'Toy Story'\n",
       "\\item[\\$year] 1995\n",
       "\\item[\\$genre] \\begin{enumerate*}\n",
       "\\item 'Animation'\n",
       "\\item 'Adventure'\n",
       "\\item 'Comedy'\n",
       "\\end{enumerate*}\n",
       "\n",
       "\\item[\\$age] 5\n",
       "\\end{description}\n"
      ],
      "text/markdown": [
       "$name\n",
       ":   'Toy Story'\n",
       "$year\n",
       ":   1995\n",
       "$genre\n",
       ":   1. 'Animation'\n",
       "2. 'Adventure'\n",
       "3. 'Comedy'\n",
       "\n",
       "\n",
       "\n",
       "$age\n",
       ":   5\n",
       "\n",
       "\n"
      ],
      "text/plain": [
       "$name\n",
       "[1] \"Toy Story\"\n",
       "\n",
       "$year\n",
       "[1] 1995\n",
       "\n",
       "$genre\n",
       "[1] \"Animation\" \"Adventure\" \"Comedy\"   \n",
       "\n",
       "$age\n",
       "[1] 5\n"
      ]
     },
     "metadata": {},
     "output_type": "display_data"
    }
   ],
   "source": [
    "# R appends the new element to the last position of the list\n",
    "movie[\"age\"] <- 5\n",
    "movie"
   ]
  },
  {
   "cell_type": "markdown",
   "id": "c855d7f7",
   "metadata": {},
   "source": [
    "### Modifying items"
   ]
  },
  {
   "cell_type": "code",
   "execution_count": 15,
   "id": "4c6020ed",
   "metadata": {},
   "outputs": [
    {
     "data": {
      "text/html": [
       "<dl>\n",
       "\t<dt>$name</dt>\n",
       "\t\t<dd>'Toy Story'</dd>\n",
       "\t<dt>$year</dt>\n",
       "\t\t<dd>1995</dd>\n",
       "\t<dt>$genre</dt>\n",
       "\t\t<dd><style>\n",
       ".list-inline {list-style: none; margin:0; padding: 0}\n",
       ".list-inline>li {display: inline-block}\n",
       ".list-inline>li:not(:last-child)::after {content: \"\\00b7\"; padding: 0 .5ex}\n",
       "</style>\n",
       "<ol class=list-inline><li>'Animation'</li><li>'Adventure'</li><li>'Comedy'</li></ol>\n",
       "</dd>\n",
       "\t<dt>$age</dt>\n",
       "\t\t<dd>6</dd>\n",
       "</dl>\n"
      ],
      "text/latex": [
       "\\begin{description}\n",
       "\\item[\\$name] 'Toy Story'\n",
       "\\item[\\$year] 1995\n",
       "\\item[\\$genre] \\begin{enumerate*}\n",
       "\\item 'Animation'\n",
       "\\item 'Adventure'\n",
       "\\item 'Comedy'\n",
       "\\end{enumerate*}\n",
       "\n",
       "\\item[\\$age] 6\n",
       "\\end{description}\n"
      ],
      "text/markdown": [
       "$name\n",
       ":   'Toy Story'\n",
       "$year\n",
       ":   1995\n",
       "$genre\n",
       ":   1. 'Animation'\n",
       "2. 'Adventure'\n",
       "3. 'Comedy'\n",
       "\n",
       "\n",
       "\n",
       "$age\n",
       ":   6\n",
       "\n",
       "\n"
      ],
      "text/plain": [
       "$name\n",
       "[1] \"Toy Story\"\n",
       "\n",
       "$year\n",
       "[1] 1995\n",
       "\n",
       "$genre\n",
       "[1] \"Animation\" \"Adventure\" \"Comedy\"   \n",
       "\n",
       "$age\n",
       "[1] 6\n"
      ]
     },
     "metadata": {},
     "output_type": "display_data"
    }
   ],
   "source": [
    "# To modify a value of the list, simply overwrite an existing value:\n",
    "movie[\"age\"] <- 6\n",
    "movie"
   ]
  },
  {
   "cell_type": "markdown",
   "id": "606e3534",
   "metadata": {},
   "source": [
    "### Removing items"
   ]
  },
  {
   "cell_type": "code",
   "execution_count": 16,
   "id": "cc730bc0",
   "metadata": {},
   "outputs": [
    {
     "data": {
      "text/html": [
       "<dl>\n",
       "\t<dt>$name</dt>\n",
       "\t\t<dd>'Toy Story'</dd>\n",
       "\t<dt>$year</dt>\n",
       "\t\t<dd>1995</dd>\n",
       "\t<dt>$genre</dt>\n",
       "\t\t<dd><style>\n",
       ".list-inline {list-style: none; margin:0; padding: 0}\n",
       ".list-inline>li {display: inline-block}\n",
       ".list-inline>li:not(:last-child)::after {content: \"\\00b7\"; padding: 0 .5ex}\n",
       "</style>\n",
       "<ol class=list-inline><li>'Animation'</li><li>'Adventure'</li><li>'Comedy'</li></ol>\n",
       "</dd>\n",
       "</dl>\n"
      ],
      "text/latex": [
       "\\begin{description}\n",
       "\\item[\\$name] 'Toy Story'\n",
       "\\item[\\$year] 1995\n",
       "\\item[\\$genre] \\begin{enumerate*}\n",
       "\\item 'Animation'\n",
       "\\item 'Adventure'\n",
       "\\item 'Comedy'\n",
       "\\end{enumerate*}\n",
       "\n",
       "\\end{description}\n"
      ],
      "text/markdown": [
       "$name\n",
       ":   'Toy Story'\n",
       "$year\n",
       ":   1995\n",
       "$genre\n",
       ":   1. 'Animation'\n",
       "2. 'Adventure'\n",
       "3. 'Comedy'\n",
       "\n",
       "\n",
       "\n",
       "\n",
       "\n"
      ],
      "text/plain": [
       "$name\n",
       "[1] \"Toy Story\"\n",
       "\n",
       "$year\n",
       "[1] 1995\n",
       "\n",
       "$genre\n",
       "[1] \"Animation\" \"Adventure\" \"Comedy\"   \n"
      ]
     },
     "metadata": {},
     "output_type": "display_data"
    }
   ],
   "source": [
    "# To remove an element from the list, assign a \"NULL\" value to it:\n",
    "movie[\"age\"] <- NULL\n",
    "movie"
   ]
  },
  {
   "cell_type": "markdown",
   "id": "8648fc8a",
   "metadata": {},
   "source": [
    "## Data Frames"
   ]
  },
  {
   "cell_type": "markdown",
   "id": "8fe5a643",
   "metadata": {},
   "source": [
    "* A data frame is a type of structure that contains correlated information.\n",
    "* Each argument in the \"data.frame\" function is a vector that represents one of the columns.\n",
    "* Each vector should contain data of the same type."
   ]
  },
  {
   "cell_type": "code",
   "execution_count": 17,
   "id": "c53f6152",
   "metadata": {
    "scrolled": true
   },
   "outputs": [
    {
     "data": {
      "text/html": [
       "<table class=\"dataframe\">\n",
       "<caption>A data.frame: 8 × 2</caption>\n",
       "<thead>\n",
       "\t<tr><th scope=col>name</th><th scope=col>year</th></tr>\n",
       "\t<tr><th scope=col>&lt;chr&gt;</th><th scope=col>&lt;dbl&gt;</th></tr>\n",
       "</thead>\n",
       "<tbody>\n",
       "\t<tr><td>Toy Story         </td><td>1995</td></tr>\n",
       "\t<tr><td>Akira             </td><td>1998</td></tr>\n",
       "\t<tr><td>The Breakfast Club</td><td>1985</td></tr>\n",
       "\t<tr><td>The Artist        </td><td>2011</td></tr>\n",
       "\t<tr><td>Modern Times      </td><td>1936</td></tr>\n",
       "\t<tr><td>Fight Club        </td><td>1999</td></tr>\n",
       "\t<tr><td>City of God       </td><td>2002</td></tr>\n",
       "\t<tr><td>The Untouchables  </td><td>1987</td></tr>\n",
       "</tbody>\n",
       "</table>\n"
      ],
      "text/latex": [
       "A data.frame: 8 × 2\n",
       "\\begin{tabular}{ll}\n",
       " name & year\\\\\n",
       " <chr> & <dbl>\\\\\n",
       "\\hline\n",
       "\t Toy Story          & 1995\\\\\n",
       "\t Akira              & 1998\\\\\n",
       "\t The Breakfast Club & 1985\\\\\n",
       "\t The Artist         & 2011\\\\\n",
       "\t Modern Times       & 1936\\\\\n",
       "\t Fight Club         & 1999\\\\\n",
       "\t City of God        & 2002\\\\\n",
       "\t The Untouchables   & 1987\\\\\n",
       "\\end{tabular}\n"
      ],
      "text/markdown": [
       "\n",
       "A data.frame: 8 × 2\n",
       "\n",
       "| name &lt;chr&gt; | year &lt;dbl&gt; |\n",
       "|---|---|\n",
       "| Toy Story          | 1995 |\n",
       "| Akira              | 1998 |\n",
       "| The Breakfast Club | 1985 |\n",
       "| The Artist         | 2011 |\n",
       "| Modern Times       | 1936 |\n",
       "| Fight Club         | 1999 |\n",
       "| City of God        | 2002 |\n",
       "| The Untouchables   | 1987 |\n",
       "\n"
      ],
      "text/plain": [
       "  name               year\n",
       "1 Toy Story          1995\n",
       "2 Akira              1998\n",
       "3 The Breakfast Club 1985\n",
       "4 The Artist         2011\n",
       "5 Modern Times       1936\n",
       "6 Fight Club         1999\n",
       "7 City of God        2002\n",
       "8 The Untouchables   1987"
      ]
     },
     "metadata": {},
     "output_type": "display_data"
    }
   ],
   "source": [
    "# Data frame for storing movie titles along with their corresponding years:\n",
    "\n",
    "movies <- data.frame(name = c(\"Toy Story\", \"Akira\", \"The Breakfast Club\", \"The Artist\", \"Modern Times\",\"Fight Club\", \"City of God\", \"The Untouchables\"),\n",
    "                     year = c(1995, 1998, 1985, 2011, 1936, 1999, 2002, 1987))\n",
    "movies"
   ]
  },
  {
   "cell_type": "markdown",
   "id": "120a0693",
   "metadata": {},
   "source": [
    "### Accessing Data Frames"
   ]
  },
  {
   "cell_type": "code",
   "execution_count": 18,
   "id": "f61df097",
   "metadata": {},
   "outputs": [
    {
     "data": {
      "text/html": [
       "<style>\n",
       ".list-inline {list-style: none; margin:0; padding: 0}\n",
       ".list-inline>li {display: inline-block}\n",
       ".list-inline>li:not(:last-child)::after {content: \"\\00b7\"; padding: 0 .5ex}\n",
       "</style>\n",
       "<ol class=list-inline><li>'Toy Story'</li><li>'Akira'</li><li>'The Breakfast Club'</li><li>'The Artist'</li><li>'Modern Times'</li><li>'Fight Club'</li><li>'City of God'</li><li>'The Untouchables'</li></ol>\n"
      ],
      "text/latex": [
       "\\begin{enumerate*}\n",
       "\\item 'Toy Story'\n",
       "\\item 'Akira'\n",
       "\\item 'The Breakfast Club'\n",
       "\\item 'The Artist'\n",
       "\\item 'Modern Times'\n",
       "\\item 'Fight Club'\n",
       "\\item 'City of God'\n",
       "\\item 'The Untouchables'\n",
       "\\end{enumerate*}\n"
      ],
      "text/markdown": [
       "1. 'Toy Story'\n",
       "2. 'Akira'\n",
       "3. 'The Breakfast Club'\n",
       "4. 'The Artist'\n",
       "5. 'Modern Times'\n",
       "6. 'Fight Club'\n",
       "7. 'City of God'\n",
       "8. 'The Untouchables'\n",
       "\n",
       "\n"
      ],
      "text/plain": [
       "[1] \"Toy Story\"          \"Akira\"              \"The Breakfast Club\"\n",
       "[4] \"The Artist\"         \"Modern Times\"       \"Fight Club\"        \n",
       "[7] \"City of God\"        \"The Untouchables\"  "
      ]
     },
     "metadata": {},
     "output_type": "display_data"
    }
   ],
   "source": [
    "# To access the variables of a data frame:\n",
    "movies$name"
   ]
  },
  {
   "cell_type": "code",
   "execution_count": 19,
   "id": "fae8e477",
   "metadata": {},
   "outputs": [
    {
     "data": {
      "text/html": [
       "<table class=\"dataframe\">\n",
       "<caption>A data.frame: 8 × 1</caption>\n",
       "<thead>\n",
       "\t<tr><th scope=col>name</th></tr>\n",
       "\t<tr><th scope=col>&lt;chr&gt;</th></tr>\n",
       "</thead>\n",
       "<tbody>\n",
       "\t<tr><td>Toy Story         </td></tr>\n",
       "\t<tr><td>Akira             </td></tr>\n",
       "\t<tr><td>The Breakfast Club</td></tr>\n",
       "\t<tr><td>The Artist        </td></tr>\n",
       "\t<tr><td>Modern Times      </td></tr>\n",
       "\t<tr><td>Fight Club        </td></tr>\n",
       "\t<tr><td>City of God       </td></tr>\n",
       "\t<tr><td>The Untouchables  </td></tr>\n",
       "</tbody>\n",
       "</table>\n"
      ],
      "text/latex": [
       "A data.frame: 8 × 1\n",
       "\\begin{tabular}{l}\n",
       " name\\\\\n",
       " <chr>\\\\\n",
       "\\hline\n",
       "\t Toy Story         \\\\\n",
       "\t Akira             \\\\\n",
       "\t The Breakfast Club\\\\\n",
       "\t The Artist        \\\\\n",
       "\t Modern Times      \\\\\n",
       "\t Fight Club        \\\\\n",
       "\t City of God       \\\\\n",
       "\t The Untouchables  \\\\\n",
       "\\end{tabular}\n"
      ],
      "text/markdown": [
       "\n",
       "A data.frame: 8 × 1\n",
       "\n",
       "| name &lt;chr&gt; |\n",
       "|---|\n",
       "| Toy Story          |\n",
       "| Akira              |\n",
       "| The Breakfast Club |\n",
       "| The Artist         |\n",
       "| Modern Times       |\n",
       "| Fight Club         |\n",
       "| City of God        |\n",
       "| The Untouchables   |\n",
       "\n"
      ],
      "text/plain": [
       "  name              \n",
       "1 Toy Story         \n",
       "2 Akira             \n",
       "3 The Breakfast Club\n",
       "4 The Artist        \n",
       "5 Modern Times      \n",
       "6 Fight Club        \n",
       "7 City of God       \n",
       "8 The Untouchables  "
      ]
     },
     "metadata": {},
     "output_type": "display_data"
    }
   ],
   "source": [
    "# Alternatively specify the column number inside square brackets:\n",
    "movies[1]"
   ]
  },
  {
   "cell_type": "code",
   "execution_count": 20,
   "id": "9601bba7",
   "metadata": {},
   "outputs": [
    {
     "data": {
      "text/html": [
       "1995"
      ],
      "text/latex": [
       "1995"
      ],
      "text/markdown": [
       "1995"
      ],
      "text/plain": [
       "[1] 1995"
      ]
     },
     "metadata": {},
     "output_type": "display_data"
    }
   ],
   "source": [
    "# To access individual elements specify the row and column numbers:\n",
    "movies[1,2]"
   ]
  },
  {
   "cell_type": "markdown",
   "id": "d7f52085",
   "metadata": {},
   "source": [
    "### Data Frame Structure"
   ]
  },
  {
   "cell_type": "code",
   "execution_count": 21,
   "id": "9d45a058",
   "metadata": {},
   "outputs": [
    {
     "name": "stdout",
     "output_type": "stream",
     "text": [
      "'data.frame':\t8 obs. of  2 variables:\n",
      " $ name: chr  \"Toy Story\" \"Akira\" \"The Breakfast Club\" \"The Artist\" ...\n",
      " $ year: num  1995 1998 1985 2011 1936 ...\n"
     ]
    }
   ],
   "source": [
    "# To get information about the data frame's structure:\n",
    "str(movies)"
   ]
  },
  {
   "cell_type": "markdown",
   "id": "d505ac42",
   "metadata": {},
   "source": [
    "### Head and Tail"
   ]
  },
  {
   "cell_type": "code",
   "execution_count": 22,
   "id": "c55643e8",
   "metadata": {},
   "outputs": [
    {
     "data": {
      "text/html": [
       "<table class=\"dataframe\">\n",
       "<caption>A data.frame: 6 × 2</caption>\n",
       "<thead>\n",
       "\t<tr><th></th><th scope=col>name</th><th scope=col>year</th></tr>\n",
       "\t<tr><th></th><th scope=col>&lt;chr&gt;</th><th scope=col>&lt;dbl&gt;</th></tr>\n",
       "</thead>\n",
       "<tbody>\n",
       "\t<tr><th scope=row>1</th><td>Toy Story         </td><td>1995</td></tr>\n",
       "\t<tr><th scope=row>2</th><td>Akira             </td><td>1998</td></tr>\n",
       "\t<tr><th scope=row>3</th><td>The Breakfast Club</td><td>1985</td></tr>\n",
       "\t<tr><th scope=row>4</th><td>The Artist        </td><td>2011</td></tr>\n",
       "\t<tr><th scope=row>5</th><td>Modern Times      </td><td>1936</td></tr>\n",
       "\t<tr><th scope=row>6</th><td>Fight Club        </td><td>1999</td></tr>\n",
       "</tbody>\n",
       "</table>\n"
      ],
      "text/latex": [
       "A data.frame: 6 × 2\n",
       "\\begin{tabular}{r|ll}\n",
       "  & name & year\\\\\n",
       "  & <chr> & <dbl>\\\\\n",
       "\\hline\n",
       "\t1 & Toy Story          & 1995\\\\\n",
       "\t2 & Akira              & 1998\\\\\n",
       "\t3 & The Breakfast Club & 1985\\\\\n",
       "\t4 & The Artist         & 2011\\\\\n",
       "\t5 & Modern Times       & 1936\\\\\n",
       "\t6 & Fight Club         & 1999\\\\\n",
       "\\end{tabular}\n"
      ],
      "text/markdown": [
       "\n",
       "A data.frame: 6 × 2\n",
       "\n",
       "| <!--/--> | name &lt;chr&gt; | year &lt;dbl&gt; |\n",
       "|---|---|---|\n",
       "| 1 | Toy Story          | 1995 |\n",
       "| 2 | Akira              | 1998 |\n",
       "| 3 | The Breakfast Club | 1985 |\n",
       "| 4 | The Artist         | 2011 |\n",
       "| 5 | Modern Times       | 1936 |\n",
       "| 6 | Fight Club         | 1999 |\n",
       "\n"
      ],
      "text/plain": [
       "  name               year\n",
       "1 Toy Story          1995\n",
       "2 Akira              1998\n",
       "3 The Breakfast Club 1985\n",
       "4 The Artist         2011\n",
       "5 Modern Times       1936\n",
       "6 Fight Club         1999"
      ]
     },
     "metadata": {},
     "output_type": "display_data"
    }
   ],
   "source": [
    "# The \"head\" function displays the first six elements of a data frame:\n",
    "head(movies)"
   ]
  },
  {
   "cell_type": "code",
   "execution_count": 23,
   "id": "f69bcabb",
   "metadata": {},
   "outputs": [
    {
     "data": {
      "text/html": [
       "<table class=\"dataframe\">\n",
       "<caption>A data.frame: 6 × 2</caption>\n",
       "<thead>\n",
       "\t<tr><th></th><th scope=col>name</th><th scope=col>year</th></tr>\n",
       "\t<tr><th></th><th scope=col>&lt;chr&gt;</th><th scope=col>&lt;dbl&gt;</th></tr>\n",
       "</thead>\n",
       "<tbody>\n",
       "\t<tr><th scope=row>3</th><td>The Breakfast Club</td><td>1985</td></tr>\n",
       "\t<tr><th scope=row>4</th><td>The Artist        </td><td>2011</td></tr>\n",
       "\t<tr><th scope=row>5</th><td>Modern Times      </td><td>1936</td></tr>\n",
       "\t<tr><th scope=row>6</th><td>Fight Club        </td><td>1999</td></tr>\n",
       "\t<tr><th scope=row>7</th><td>City of God       </td><td>2002</td></tr>\n",
       "\t<tr><th scope=row>8</th><td>The Untouchables  </td><td>1987</td></tr>\n",
       "</tbody>\n",
       "</table>\n"
      ],
      "text/latex": [
       "A data.frame: 6 × 2\n",
       "\\begin{tabular}{r|ll}\n",
       "  & name & year\\\\\n",
       "  & <chr> & <dbl>\\\\\n",
       "\\hline\n",
       "\t3 & The Breakfast Club & 1985\\\\\n",
       "\t4 & The Artist         & 2011\\\\\n",
       "\t5 & Modern Times       & 1936\\\\\n",
       "\t6 & Fight Club         & 1999\\\\\n",
       "\t7 & City of God        & 2002\\\\\n",
       "\t8 & The Untouchables   & 1987\\\\\n",
       "\\end{tabular}\n"
      ],
      "text/markdown": [
       "\n",
       "A data.frame: 6 × 2\n",
       "\n",
       "| <!--/--> | name &lt;chr&gt; | year &lt;dbl&gt; |\n",
       "|---|---|---|\n",
       "| 3 | The Breakfast Club | 1985 |\n",
       "| 4 | The Artist         | 2011 |\n",
       "| 5 | Modern Times       | 1936 |\n",
       "| 6 | Fight Club         | 1999 |\n",
       "| 7 | City of God        | 2002 |\n",
       "| 8 | The Untouchables   | 1987 |\n",
       "\n"
      ],
      "text/plain": [
       "  name               year\n",
       "3 The Breakfast Club 1985\n",
       "4 The Artist         2011\n",
       "5 Modern Times       1936\n",
       "6 Fight Club         1999\n",
       "7 City of God        2002\n",
       "8 The Untouchables   1987"
      ]
     },
     "metadata": {},
     "output_type": "display_data"
    }
   ],
   "source": [
    "# The \"tail\" function displays the last six elements of a data frame:\n",
    "tail(movies)"
   ]
  },
  {
   "cell_type": "markdown",
   "id": "aa0476f7",
   "metadata": {},
   "source": [
    "### Inserting a new column"
   ]
  },
  {
   "cell_type": "code",
   "execution_count": 24,
   "id": "38051fdc",
   "metadata": {},
   "outputs": [
    {
     "data": {
      "text/html": [
       "<table class=\"dataframe\">\n",
       "<caption>A data.frame: 8 × 3</caption>\n",
       "<thead>\n",
       "\t<tr><th scope=col>name</th><th scope=col>year</th><th scope=col>length</th></tr>\n",
       "\t<tr><th scope=col>&lt;chr&gt;</th><th scope=col>&lt;dbl&gt;</th><th scope=col>&lt;dbl&gt;</th></tr>\n",
       "</thead>\n",
       "<tbody>\n",
       "\t<tr><td>Toy Story         </td><td>1995</td><td> 81</td></tr>\n",
       "\t<tr><td>Akira             </td><td>1998</td><td>125</td></tr>\n",
       "\t<tr><td>The Breakfast Club</td><td>1985</td><td> 97</td></tr>\n",
       "\t<tr><td>The Artist        </td><td>2011</td><td>100</td></tr>\n",
       "\t<tr><td>Modern Times      </td><td>1936</td><td> 87</td></tr>\n",
       "\t<tr><td>Fight Club        </td><td>1999</td><td>139</td></tr>\n",
       "\t<tr><td>City of God       </td><td>2002</td><td>130</td></tr>\n",
       "\t<tr><td>The Untouchables  </td><td>1987</td><td>119</td></tr>\n",
       "</tbody>\n",
       "</table>\n"
      ],
      "text/latex": [
       "A data.frame: 8 × 3\n",
       "\\begin{tabular}{lll}\n",
       " name & year & length\\\\\n",
       " <chr> & <dbl> & <dbl>\\\\\n",
       "\\hline\n",
       "\t Toy Story          & 1995 &  81\\\\\n",
       "\t Akira              & 1998 & 125\\\\\n",
       "\t The Breakfast Club & 1985 &  97\\\\\n",
       "\t The Artist         & 2011 & 100\\\\\n",
       "\t Modern Times       & 1936 &  87\\\\\n",
       "\t Fight Club         & 1999 & 139\\\\\n",
       "\t City of God        & 2002 & 130\\\\\n",
       "\t The Untouchables   & 1987 & 119\\\\\n",
       "\\end{tabular}\n"
      ],
      "text/markdown": [
       "\n",
       "A data.frame: 8 × 3\n",
       "\n",
       "| name &lt;chr&gt; | year &lt;dbl&gt; | length &lt;dbl&gt; |\n",
       "|---|---|---|\n",
       "| Toy Story          | 1995 |  81 |\n",
       "| Akira              | 1998 | 125 |\n",
       "| The Breakfast Club | 1985 |  97 |\n",
       "| The Artist         | 2011 | 100 |\n",
       "| Modern Times       | 1936 |  87 |\n",
       "| Fight Club         | 1999 | 139 |\n",
       "| City of God        | 2002 | 130 |\n",
       "| The Untouchables   | 1987 | 119 |\n",
       "\n"
      ],
      "text/plain": [
       "  name               year length\n",
       "1 Toy Story          1995  81   \n",
       "2 Akira              1998 125   \n",
       "3 The Breakfast Club 1985  97   \n",
       "4 The Artist         2011 100   \n",
       "5 Modern Times       1936  87   \n",
       "6 Fight Club         1999 139   \n",
       "7 City of God        2002 130   \n",
       "8 The Untouchables   1987 119   "
      ]
     },
     "metadata": {},
     "output_type": "display_data"
    }
   ],
   "source": [
    "# Add a new column for \"length\"\n",
    "movies[\"length\"] <- c(81, 125, 97, 100, 87, 139, 130, 119)\n",
    "movies"
   ]
  },
  {
   "cell_type": "markdown",
   "id": "da4a7020",
   "metadata": {},
   "source": [
    "### Inserting a new row"
   ]
  },
  {
   "cell_type": "code",
   "execution_count": 25,
   "id": "7d14c09d",
   "metadata": {},
   "outputs": [
    {
     "data": {
      "text/html": [
       "<table class=\"dataframe\">\n",
       "<caption>A data.frame: 9 × 3</caption>\n",
       "<thead>\n",
       "\t<tr><th scope=col>name</th><th scope=col>year</th><th scope=col>length</th></tr>\n",
       "\t<tr><th scope=col>&lt;chr&gt;</th><th scope=col>&lt;chr&gt;</th><th scope=col>&lt;chr&gt;</th></tr>\n",
       "</thead>\n",
       "<tbody>\n",
       "\t<tr><td>Toy Story         </td><td>1995</td><td>81 </td></tr>\n",
       "\t<tr><td>Akira             </td><td>1998</td><td>125</td></tr>\n",
       "\t<tr><td>The Breakfast Club</td><td>1985</td><td>97 </td></tr>\n",
       "\t<tr><td>The Artist        </td><td>2011</td><td>100</td></tr>\n",
       "\t<tr><td>Modern Times      </td><td>1936</td><td>87 </td></tr>\n",
       "\t<tr><td>Fight Club        </td><td>1999</td><td>139</td></tr>\n",
       "\t<tr><td>City of God       </td><td>2002</td><td>130</td></tr>\n",
       "\t<tr><td>The Untouchables  </td><td>1987</td><td>119</td></tr>\n",
       "\t<tr><td>Dr. Strangelove   </td><td>1964</td><td>94 </td></tr>\n",
       "</tbody>\n",
       "</table>\n"
      ],
      "text/latex": [
       "A data.frame: 9 × 3\n",
       "\\begin{tabular}{lll}\n",
       " name & year & length\\\\\n",
       " <chr> & <chr> & <chr>\\\\\n",
       "\\hline\n",
       "\t Toy Story          & 1995 & 81 \\\\\n",
       "\t Akira              & 1998 & 125\\\\\n",
       "\t The Breakfast Club & 1985 & 97 \\\\\n",
       "\t The Artist         & 2011 & 100\\\\\n",
       "\t Modern Times       & 1936 & 87 \\\\\n",
       "\t Fight Club         & 1999 & 139\\\\\n",
       "\t City of God        & 2002 & 130\\\\\n",
       "\t The Untouchables   & 1987 & 119\\\\\n",
       "\t Dr. Strangelove    & 1964 & 94 \\\\\n",
       "\\end{tabular}\n"
      ],
      "text/markdown": [
       "\n",
       "A data.frame: 9 × 3\n",
       "\n",
       "| name &lt;chr&gt; | year &lt;chr&gt; | length &lt;chr&gt; |\n",
       "|---|---|---|\n",
       "| Toy Story          | 1995 | 81  |\n",
       "| Akira              | 1998 | 125 |\n",
       "| The Breakfast Club | 1985 | 97  |\n",
       "| The Artist         | 2011 | 100 |\n",
       "| Modern Times       | 1936 | 87  |\n",
       "| Fight Club         | 1999 | 139 |\n",
       "| City of God        | 2002 | 130 |\n",
       "| The Untouchables   | 1987 | 119 |\n",
       "| Dr. Strangelove    | 1964 | 94  |\n",
       "\n"
      ],
      "text/plain": [
       "  name               year length\n",
       "1 Toy Story          1995 81    \n",
       "2 Akira              1998 125   \n",
       "3 The Breakfast Club 1985 97    \n",
       "4 The Artist         2011 100   \n",
       "5 Modern Times       1936 87    \n",
       "6 Fight Club         1999 139   \n",
       "7 City of God        2002 130   \n",
       "8 The Untouchables   1987 119   \n",
       "9 Dr. Strangelove    1964 94    "
      ]
     },
     "metadata": {},
     "output_type": "display_data"
    }
   ],
   "source": [
    "# The arguments for the \"rbind\" function are the data frame itself, and a vector that contains values for all the columns:\n",
    "movies <- rbind(movies, c(name=\"Dr. Strangelove\", year=1964, length=94))\n",
    "movies"
   ]
  },
  {
   "cell_type": "markdown",
   "id": "ebe1caba",
   "metadata": {},
   "source": [
    "### Deleting Rows"
   ]
  },
  {
   "cell_type": "code",
   "execution_count": 26,
   "id": "daec80cb",
   "metadata": {},
   "outputs": [
    {
     "data": {
      "text/html": [
       "<table class=\"dataframe\">\n",
       "<caption>A data.frame: 8 × 3</caption>\n",
       "<thead>\n",
       "\t<tr><th></th><th scope=col>name</th><th scope=col>year</th><th scope=col>length</th></tr>\n",
       "\t<tr><th></th><th scope=col>&lt;chr&gt;</th><th scope=col>&lt;chr&gt;</th><th scope=col>&lt;chr&gt;</th></tr>\n",
       "</thead>\n",
       "<tbody>\n",
       "\t<tr><th scope=row>1</th><td>Toy Story         </td><td>1995</td><td>81 </td></tr>\n",
       "\t<tr><th scope=row>2</th><td>Akira             </td><td>1998</td><td>125</td></tr>\n",
       "\t<tr><th scope=row>3</th><td>The Breakfast Club</td><td>1985</td><td>97 </td></tr>\n",
       "\t<tr><th scope=row>4</th><td>The Artist        </td><td>2011</td><td>100</td></tr>\n",
       "\t<tr><th scope=row>5</th><td>Modern Times      </td><td>1936</td><td>87 </td></tr>\n",
       "\t<tr><th scope=row>6</th><td>Fight Club        </td><td>1999</td><td>139</td></tr>\n",
       "\t<tr><th scope=row>7</th><td>City of God       </td><td>2002</td><td>130</td></tr>\n",
       "\t<tr><th scope=row>8</th><td>The Untouchables  </td><td>1987</td><td>119</td></tr>\n",
       "</tbody>\n",
       "</table>\n"
      ],
      "text/latex": [
       "A data.frame: 8 × 3\n",
       "\\begin{tabular}{r|lll}\n",
       "  & name & year & length\\\\\n",
       "  & <chr> & <chr> & <chr>\\\\\n",
       "\\hline\n",
       "\t1 & Toy Story          & 1995 & 81 \\\\\n",
       "\t2 & Akira              & 1998 & 125\\\\\n",
       "\t3 & The Breakfast Club & 1985 & 97 \\\\\n",
       "\t4 & The Artist         & 2011 & 100\\\\\n",
       "\t5 & Modern Times       & 1936 & 87 \\\\\n",
       "\t6 & Fight Club         & 1999 & 139\\\\\n",
       "\t7 & City of God        & 2002 & 130\\\\\n",
       "\t8 & The Untouchables   & 1987 & 119\\\\\n",
       "\\end{tabular}\n"
      ],
      "text/markdown": [
       "\n",
       "A data.frame: 8 × 3\n",
       "\n",
       "| <!--/--> | name &lt;chr&gt; | year &lt;chr&gt; | length &lt;chr&gt; |\n",
       "|---|---|---|---|\n",
       "| 1 | Toy Story          | 1995 | 81  |\n",
       "| 2 | Akira              | 1998 | 125 |\n",
       "| 3 | The Breakfast Club | 1985 | 97  |\n",
       "| 4 | The Artist         | 2011 | 100 |\n",
       "| 5 | Modern Times       | 1936 | 87  |\n",
       "| 6 | Fight Club         | 1999 | 139 |\n",
       "| 7 | City of God        | 2002 | 130 |\n",
       "| 8 | The Untouchables   | 1987 | 119 |\n",
       "\n"
      ],
      "text/plain": [
       "  name               year length\n",
       "1 Toy Story          1995 81    \n",
       "2 Akira              1998 125   \n",
       "3 The Breakfast Club 1985 97    \n",
       "4 The Artist         2011 100   \n",
       "5 Modern Times       1936 87    \n",
       "6 Fight Club         1999 139   \n",
       "7 City of God        2002 130   \n",
       "8 The Untouchables   1987 119   "
      ]
     },
     "metadata": {},
     "output_type": "display_data"
    }
   ],
   "source": [
    "# To delete the last row (row 9) of the data frame:\n",
    "movies <- movies[-9,]  # Note: leave the column blank\n",
    "movies"
   ]
  },
  {
   "cell_type": "markdown",
   "id": "0abbfa1d",
   "metadata": {},
   "source": [
    "### Deleting Columns"
   ]
  },
  {
   "cell_type": "code",
   "execution_count": 27,
   "id": "cf89a515",
   "metadata": {},
   "outputs": [
    {
     "data": {
      "text/html": [
       "<table class=\"dataframe\">\n",
       "<caption>A data.frame: 8 × 2</caption>\n",
       "<thead>\n",
       "\t<tr><th></th><th scope=col>name</th><th scope=col>year</th></tr>\n",
       "\t<tr><th></th><th scope=col>&lt;chr&gt;</th><th scope=col>&lt;chr&gt;</th></tr>\n",
       "</thead>\n",
       "<tbody>\n",
       "\t<tr><th scope=row>1</th><td>Toy Story         </td><td>1995</td></tr>\n",
       "\t<tr><th scope=row>2</th><td>Akira             </td><td>1998</td></tr>\n",
       "\t<tr><th scope=row>3</th><td>The Breakfast Club</td><td>1985</td></tr>\n",
       "\t<tr><th scope=row>4</th><td>The Artist        </td><td>2011</td></tr>\n",
       "\t<tr><th scope=row>5</th><td>Modern Times      </td><td>1936</td></tr>\n",
       "\t<tr><th scope=row>6</th><td>Fight Club        </td><td>1999</td></tr>\n",
       "\t<tr><th scope=row>7</th><td>City of God       </td><td>2002</td></tr>\n",
       "\t<tr><th scope=row>8</th><td>The Untouchables  </td><td>1987</td></tr>\n",
       "</tbody>\n",
       "</table>\n"
      ],
      "text/latex": [
       "A data.frame: 8 × 2\n",
       "\\begin{tabular}{r|ll}\n",
       "  & name & year\\\\\n",
       "  & <chr> & <chr>\\\\\n",
       "\\hline\n",
       "\t1 & Toy Story          & 1995\\\\\n",
       "\t2 & Akira              & 1998\\\\\n",
       "\t3 & The Breakfast Club & 1985\\\\\n",
       "\t4 & The Artist         & 2011\\\\\n",
       "\t5 & Modern Times       & 1936\\\\\n",
       "\t6 & Fight Club         & 1999\\\\\n",
       "\t7 & City of God        & 2002\\\\\n",
       "\t8 & The Untouchables   & 1987\\\\\n",
       "\\end{tabular}\n"
      ],
      "text/markdown": [
       "\n",
       "A data.frame: 8 × 2\n",
       "\n",
       "| <!--/--> | name &lt;chr&gt; | year &lt;chr&gt; |\n",
       "|---|---|---|\n",
       "| 1 | Toy Story          | 1995 |\n",
       "| 2 | Akira              | 1998 |\n",
       "| 3 | The Breakfast Club | 1985 |\n",
       "| 4 | The Artist         | 2011 |\n",
       "| 5 | Modern Times       | 1936 |\n",
       "| 6 | Fight Club         | 1999 |\n",
       "| 7 | City of God        | 2002 |\n",
       "| 8 | The Untouchables   | 1987 |\n",
       "\n"
      ],
      "text/plain": [
       "  name               year\n",
       "1 Toy Story          1995\n",
       "2 Akira              1998\n",
       "3 The Breakfast Club 1985\n",
       "4 The Artist         2011\n",
       "5 Modern Times       1936\n",
       "6 Fight Club         1999\n",
       "7 City of God        2002\n",
       "8 The Untouchables   1987"
      ]
     },
     "metadata": {},
     "output_type": "display_data"
    }
   ],
   "source": [
    "# To delete the \"length\" column:\n",
    "movies[\"length\"] <- NULL\n",
    "movies"
   ]
  },
  {
   "cell_type": "markdown",
   "id": "b270afef",
   "metadata": {},
   "source": [
    "## Review Questions"
   ]
  },
  {
   "cell_type": "markdown",
   "id": "0735a3b1",
   "metadata": {},
   "source": [
    "1. Given a 5 x 5 matrix object, `movies`, how would you retrieve the bottom-left item?\n",
    "* **Answer:** movies[5,1]"
   ]
  },
  {
   "cell_type": "markdown",
   "id": "f0828d82",
   "metadata": {},
   "source": [
    "2. Below is a list for a student and his info. Select all the correct options we can use to retrieve his courses?\n",
    "* **Answer:** All options are correct"
   ]
  },
  {
   "cell_type": "code",
   "execution_count": 28,
   "id": "4f28c825",
   "metadata": {},
   "outputs": [],
   "source": [
    "john <- list(\"studentid\" = 9, \"age\" = 18, \"courses\" = c(\"Data Science 101\", \"Data Science Methodology\"))"
   ]
  },
  {
   "cell_type": "code",
   "execution_count": 29,
   "id": "de5c754c",
   "metadata": {},
   "outputs": [
    {
     "data": {
      "text/html": [
       "<strong>$courses</strong> = <style>\n",
       ".list-inline {list-style: none; margin:0; padding: 0}\n",
       ".list-inline>li {display: inline-block}\n",
       ".list-inline>li:not(:last-child)::after {content: \"\\00b7\"; padding: 0 .5ex}\n",
       "</style>\n",
       "<ol class=list-inline><li>'Data Science 101'</li><li>'Data Science Methodology'</li></ol>\n"
      ],
      "text/latex": [
       "\\textbf{\\$courses} = \\begin{enumerate*}\n",
       "\\item 'Data Science 101'\n",
       "\\item 'Data Science Methodology'\n",
       "\\end{enumerate*}\n"
      ],
      "text/markdown": [
       "**$courses** = 1. 'Data Science 101'\n",
       "2. 'Data Science Methodology'\n",
       "\n",
       "\n"
      ],
      "text/plain": [
       "$courses\n",
       "[1] \"Data Science 101\"         \"Data Science Methodology\"\n"
      ]
     },
     "metadata": {},
     "output_type": "display_data"
    }
   ],
   "source": [
    "john[\"courses\"]"
   ]
  },
  {
   "cell_type": "code",
   "execution_count": 30,
   "id": "802b7bab",
   "metadata": {},
   "outputs": [
    {
     "data": {
      "text/html": [
       "<style>\n",
       ".list-inline {list-style: none; margin:0; padding: 0}\n",
       ".list-inline>li {display: inline-block}\n",
       ".list-inline>li:not(:last-child)::after {content: \"\\00b7\"; padding: 0 .5ex}\n",
       "</style>\n",
       "<ol class=list-inline><li>'Data Science 101'</li><li>'Data Science Methodology'</li></ol>\n"
      ],
      "text/latex": [
       "\\begin{enumerate*}\n",
       "\\item 'Data Science 101'\n",
       "\\item 'Data Science Methodology'\n",
       "\\end{enumerate*}\n"
      ],
      "text/markdown": [
       "1. 'Data Science 101'\n",
       "2. 'Data Science Methodology'\n",
       "\n",
       "\n"
      ],
      "text/plain": [
       "[1] \"Data Science 101\"         \"Data Science Methodology\""
      ]
     },
     "metadata": {},
     "output_type": "display_data"
    }
   ],
   "source": [
    "john$courses"
   ]
  },
  {
   "cell_type": "code",
   "execution_count": 31,
   "id": "b0b7dc59",
   "metadata": {},
   "outputs": [
    {
     "data": {
      "text/html": [
       "<strong>$courses</strong> = <style>\n",
       ".list-inline {list-style: none; margin:0; padding: 0}\n",
       ".list-inline>li {display: inline-block}\n",
       ".list-inline>li:not(:last-child)::after {content: \"\\00b7\"; padding: 0 .5ex}\n",
       "</style>\n",
       "<ol class=list-inline><li>'Data Science 101'</li><li>'Data Science Methodology'</li></ol>\n"
      ],
      "text/latex": [
       "\\textbf{\\$courses} = \\begin{enumerate*}\n",
       "\\item 'Data Science 101'\n",
       "\\item 'Data Science Methodology'\n",
       "\\end{enumerate*}\n"
      ],
      "text/markdown": [
       "**$courses** = 1. 'Data Science 101'\n",
       "2. 'Data Science Methodology'\n",
       "\n",
       "\n"
      ],
      "text/plain": [
       "$courses\n",
       "[1] \"Data Science 101\"         \"Data Science Methodology\"\n"
      ]
     },
     "metadata": {},
     "output_type": "display_data"
    }
   ],
   "source": [
    "john[3]"
   ]
  },
  {
   "cell_type": "markdown",
   "id": "606c2430",
   "metadata": {},
   "source": [
    "3. Select the correct code from the following options which produces the following result?"
   ]
  },
  {
   "cell_type": "code",
   "execution_count": 32,
   "id": "9d97f495",
   "metadata": {
    "scrolled": true
   },
   "outputs": [
    {
     "data": {
      "text/html": [
       "<table class=\"dataframe\">\n",
       "<caption>A data.frame: 2 × 2</caption>\n",
       "<thead>\n",
       "\t<tr><th scope=col>student</th><th scope=col>id</th></tr>\n",
       "\t<tr><th scope=col>&lt;chr&gt;</th><th scope=col>&lt;dbl&gt;</th></tr>\n",
       "</thead>\n",
       "<tbody>\n",
       "\t<tr><td>John</td><td>1</td></tr>\n",
       "\t<tr><td>Mary</td><td>2</td></tr>\n",
       "</tbody>\n",
       "</table>\n"
      ],
      "text/latex": [
       "A data.frame: 2 × 2\n",
       "\\begin{tabular}{ll}\n",
       " student & id\\\\\n",
       " <chr> & <dbl>\\\\\n",
       "\\hline\n",
       "\t John & 1\\\\\n",
       "\t Mary & 2\\\\\n",
       "\\end{tabular}\n"
      ],
      "text/markdown": [
       "\n",
       "A data.frame: 2 × 2\n",
       "\n",
       "| student &lt;chr&gt; | id &lt;dbl&gt; |\n",
       "|---|---|\n",
       "| John | 1 |\n",
       "| Mary | 2 |\n",
       "\n"
      ],
      "text/plain": [
       "  student id\n",
       "1 John    1 \n",
       "2 Mary    2 "
      ]
     },
     "metadata": {},
     "output_type": "display_data"
    }
   ],
   "source": [
    "# Answer:\n",
    "data.frame(\"student\" = c(\"John\", \"Mary\"), \"id\" = c(1, 2))"
   ]
  },
  {
   "cell_type": "markdown",
   "id": "4ec2f3aa",
   "metadata": {},
   "source": [
    "<hr>"
   ]
  }
 ],
 "metadata": {
  "kernelspec": {
   "display_name": "R",
   "language": "R",
   "name": "ir"
  },
  "language_info": {
   "codemirror_mode": "r",
   "file_extension": ".r",
   "mimetype": "text/x-r-source",
   "name": "R",
   "pygments_lexer": "r",
   "version": "4.1.0"
  },
  "toc": {
   "base_numbering": 1,
   "nav_menu": {},
   "number_sections": false,
   "sideBar": true,
   "skip_h1_title": true,
   "title_cell": "Contents",
   "title_sidebar": "Contents",
   "toc_cell": true,
   "toc_position": {},
   "toc_section_display": true,
   "toc_window_display": false
  }
 },
 "nbformat": 4,
 "nbformat_minor": 5
}
