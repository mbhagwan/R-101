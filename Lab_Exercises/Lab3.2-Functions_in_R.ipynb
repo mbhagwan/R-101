{
 "cells": [
  {
   "cell_type": "markdown",
   "metadata": {
    "toc": true
   },
   "source": [
    "<h1>Contents<span class=\"tocSkip\"></span></h1>\n",
    "<div class=\"toc\"><ul class=\"toc-item\"><li><span><a href=\"#Table-of-Contents\" data-toc-modified-id=\"Table-of-Contents-1\">Table of Contents</a></span></li><li><span><a href=\"#About-the-Dataset\" data-toc-modified-id=\"About-the-Dataset-2\">About the Dataset</a></span></li><li><span><a href=\"#What-is-a-Function?\" data-toc-modified-id=\"What-is-a-Function?-3\">What is a Function?</a></span><ul class=\"toc-item\"><li><span><a href=\"#Pre-defined-functions\" data-toc-modified-id=\"Pre-defined-functions-3.1\"><b>Pre-defined functions</b></a></span><ul class=\"toc-item\"><li><span><a href=\"#-[Tip]-How-do-I-learn-more-about-the-pre-defined-functions-in-R?-\" data-toc-modified-id=\"-[Tip]-How-do-I-learn-more-about-the-pre-defined-functions-in-R?--3.1.1\"> [Tip] How do I learn more about the pre-defined functions in R? </a></span></li></ul></li><li><span><a href=\"#User-defined-functions\" data-toc-modified-id=\"User-defined-functions-3.2\">User-defined functions</a></span></li></ul></li><li><span><a href=\"#Explicitly-returning-outputs-in-user-defined-functions\" data-toc-modified-id=\"Explicitly-returning-outputs-in-user-defined-functions-4\">Explicitly returning outputs in user-defined functions</a></span><ul class=\"toc-item\"><li><ul class=\"toc-item\"><li><span><a href=\"#You-can-also-explicitly-tell-the-function-to-return-an-output.\" data-toc-modified-id=\"You-can-also-explicitly-tell-the-function-to-return-an-output.-4.0.1\">You can also explicitly tell the function to return an output.</a></span></li></ul></li></ul></li><li><span><a href=\"#Using-IF/ELSE-statements-in-functions\" data-toc-modified-id=\"Using-IF/ELSE-statements-in-functions-5\">Using IF/ELSE statements in functions</a></span></li><li><span><a href=\"#Setting-default-argument-values-in-your-custom-functions\" data-toc-modified-id=\"Setting-default-argument-values-in-your-custom-functions-6\">Setting default argument values in your custom functions</a></span></li><li><span><a href=\"#Using-functions-within-functions\" data-toc-modified-id=\"Using-functions-within-functions-7\">Using functions within functions</a></span></li><li><span><a href=\"#Global-and-local-variables\" data-toc-modified-id=\"Global-and-local-variables-8\">Global and local variables</a></span><ul class=\"toc-item\"><li><ul class=\"toc-item\"><li><span><a href=\"#Scaling-R-with-big-data\" data-toc-modified-id=\"Scaling-R-with-big-data-8.0.1\">Scaling R with big data</a></span></li></ul></li><li><span><a href=\"#About-the-Author:\" data-toc-modified-id=\"About-the-Author:-8.1\">About the Author:</a></span></li></ul></li></ul></div>"
   ]
  },
  {
   "cell_type": "markdown",
   "metadata": {},
   "source": [
    "<center>\n",
    "    <img src=\"https://cf-courses-data.s3.us.cloud-object-storage.appdomain.cloud/IBMDeveloperSkillsNetwork-DA0101EN-SkillsNetwork/labs/Module%201/images/IDSNlogo.png\" width=\"300\" alt=\"cognitiveclass.ai logo\"  />\n",
    "</center>\n",
    "\n",
    "<h1 align=center>Writing your own CUSTOM FUNCTIONS in R</h1> "
   ]
  },
  {
   "cell_type": "markdown",
   "metadata": {},
   "source": [
    "## Table of Contents\n",
    "\n",
    "<ul>\n",
    "<li><a href=\"#About-the-Dataset\">About the Dataset</a></li>\n",
    "<li><a href=\"#What-is-a-Function?\">What is a Function?</a></li>\n",
    "<li><a href=\"#Explicitly-returning-outputs-in-user-defined-functions\">Explicitly returning outputs in user-defined functions</a></li>\n",
    "<li><a href=\"#Using-IF/ELSE-statements-in-functions\">Using IF/ELSE statements in functions</a></li>\n",
    "<li><a href=\"#Setting-default-argument-values-in-your-custom-functions\">Setting default argument values in your custom functions</a></li>\n",
    "<li><a href=\"#Using-functions-within-functions\">Using functions within functions</a></li>\n",
    "<li><a href=\"#Global-and-local-variables\">Global and local variables</a></li>\n",
    "</ul>\n",
    "<p></p>\n",
    "Estimated Time Needed: <strong>25 min</strong>\n",
    "\n",
    "<hr>\n"
   ]
  },
  {
   "cell_type": "markdown",
   "metadata": {},
   "source": [
    "<a id=\"ref0\"></a>\n",
    "\n",
    "<h2 align=center>About the Dataset</h2>\n"
   ]
  },
  {
   "cell_type": "markdown",
   "metadata": {},
   "source": [
    "Imagine you got many movie recomendations from your friends and compiled all of the recomendations in a table, with specific info about each movie.\n",
    "\n",
    "The table has one row for each movie and several columns\n",
    "\n",
    "-   **name** - The name of the movie\n",
    "-   **year** - The year the movie was released\n",
    "-   **length_min** - The lenght of the movie in minutes\n",
    "-   **genre** - The genre of the movie\n",
    "-   **average_rating** - Average rating on Imdb\n",
    "-   **cost_millions** - The movie's production cost in millions\n",
    "-   **foreign** - Indicative of whether the movie is foreign (1) or domestic (0)\n",
    "-   **age_restriction** - The age restriction for the movie\n",
    "    <br>\n",
    "\n",
    "You can see part of the dataset below\n",
    "\n",
    "<img src=\"https://ibm.box.com/shared/static/6kr8sg0n6pc40zd1xn6hjhtvy3k7cmeq.png\">\n"
   ]
  },
  {
   "cell_type": "markdown",
   "metadata": {},
   "source": [
    "Lets first download the dataset that we will use in this notebook:\n"
   ]
  },
  {
   "cell_type": "code",
   "execution_count": 56,
   "metadata": {},
   "outputs": [],
   "source": [
    "# code to download the dataset\n",
    "download.file(\"https://ibm.box.com/shared/static/n5ay5qadfe7e1nnsv5s01oe1x62mq51j.csv\", destfile=\"movies-db.csv\")"
   ]
  },
  {
   "cell_type": "markdown",
   "metadata": {},
   "source": [
    "<hr>\n"
   ]
  },
  {
   "cell_type": "markdown",
   "metadata": {},
   "source": [
    "<a id='ref1'></a>\n",
    "\n",
    "<center><h2>What is a Function?</h2></center>\n",
    "\n",
    "A function is a re-usable block of code which performs operations specified in the function.\n",
    "\n",
    "There are two types of functions :\n",
    "\n",
    "-   **Pre-defined functions**\n",
    "-   **User defined functions**\n"
   ]
  },
  {
   "cell_type": "markdown",
   "metadata": {},
   "source": [
    "<b>Pre-defined</b> functions are those that are already defined for you, whether it's in R or within a package. For example, **`sum()`** is a pre-defined function that returns the sum of its numeric inputs.\n"
   ]
  },
  {
   "cell_type": "markdown",
   "metadata": {},
   "source": [
    "<b>User-defined</b> functions are custom functions created and defined by the user. For example, you can create a custom function to print **Hello World**.\n"
   ]
  },
  {
   "cell_type": "markdown",
   "metadata": {},
   "source": [
    "<h3><b>Pre-defined functions</b></h3>\n"
   ]
  },
  {
   "cell_type": "markdown",
   "metadata": {},
   "source": [
    "There are many pre-defined functions, so let's start with the simple ones.\n"
   ]
  },
  {
   "cell_type": "markdown",
   "metadata": {},
   "source": [
    "Using the **`mean()`** function, let's get the average of these three movie ratings:\n",
    "\n",
    "-   **Star Wars (1977)** - rating of 8.7 \n",
    "-   **Jumanji** - rating of 6.9\n",
    "-   **Back to the Future** - rating of 8.5\n"
   ]
  },
  {
   "cell_type": "code",
   "execution_count": 57,
   "metadata": {},
   "outputs": [
    {
     "data": {
      "text/html": [
       "8.03333333333333"
      ],
      "text/latex": [
       "8.03333333333333"
      ],
      "text/markdown": [
       "8.03333333333333"
      ],
      "text/plain": [
       "[1] 8.033333"
      ]
     },
     "metadata": {},
     "output_type": "display_data"
    }
   ],
   "source": [
    "ratings <- c(8.7, 6.9, 8.5)\n",
    "mean(ratings)"
   ]
  },
  {
   "cell_type": "markdown",
   "metadata": {},
   "source": [
    "We can use the **`sort()`** function to sort the movies rating in _ascending order_.\n"
   ]
  },
  {
   "cell_type": "code",
   "execution_count": 58,
   "metadata": {},
   "outputs": [
    {
     "data": {
      "text/html": [
       "<style>\n",
       ".list-inline {list-style: none; margin:0; padding: 0}\n",
       ".list-inline>li {display: inline-block}\n",
       ".list-inline>li:not(:last-child)::after {content: \"\\00b7\"; padding: 0 .5ex}\n",
       "</style>\n",
       "<ol class=list-inline><li>6.9</li><li>8.5</li><li>8.7</li></ol>\n"
      ],
      "text/latex": [
       "\\begin{enumerate*}\n",
       "\\item 6.9\n",
       "\\item 8.5\n",
       "\\item 8.7\n",
       "\\end{enumerate*}\n"
      ],
      "text/markdown": [
       "1. 6.9\n",
       "2. 8.5\n",
       "3. 8.7\n",
       "\n",
       "\n"
      ],
      "text/plain": [
       "[1] 6.9 8.5 8.7"
      ]
     },
     "metadata": {},
     "output_type": "display_data"
    }
   ],
   "source": [
    "sort(ratings)"
   ]
  },
  {
   "cell_type": "markdown",
   "metadata": {},
   "source": [
    "You can also sort by _decreasing_ order, by adding in the argument **`decreasing = TRUE`**.\n"
   ]
  },
  {
   "cell_type": "code",
   "execution_count": 59,
   "metadata": {},
   "outputs": [
    {
     "data": {
      "text/html": [
       "<style>\n",
       ".list-inline {list-style: none; margin:0; padding: 0}\n",
       ".list-inline>li {display: inline-block}\n",
       ".list-inline>li:not(:last-child)::after {content: \"\\00b7\"; padding: 0 .5ex}\n",
       "</style>\n",
       "<ol class=list-inline><li>8.7</li><li>8.5</li><li>6.9</li></ol>\n"
      ],
      "text/latex": [
       "\\begin{enumerate*}\n",
       "\\item 8.7\n",
       "\\item 8.5\n",
       "\\item 6.9\n",
       "\\end{enumerate*}\n"
      ],
      "text/markdown": [
       "1. 8.7\n",
       "2. 8.5\n",
       "3. 6.9\n",
       "\n",
       "\n"
      ],
      "text/plain": [
       "[1] 8.7 8.5 6.9"
      ]
     },
     "metadata": {},
     "output_type": "display_data"
    }
   ],
   "source": [
    "sort(ratings, decreasing = TRUE)"
   ]
  },
  {
   "cell_type": "markdown",
   "metadata": {},
   "source": [
    "<div class=\"alert alert-success alertsuccess\" style=\"margin-top: 20px\">\n",
    "    \n",
    "<h4> [Tip] How do I learn more about the pre-defined functions in R? </h4>\n",
    "<p></p>\n",
    "We will be introducing a variety of **pre-defined functions** to you as you learn more about R. There are just too many functions, so there's no way we can teach them all in one sitting. But if you'd like to take a quick peek, here's a short reference card for some of the   \n",
    "<a href=\"https://cran.r-project.org/doc/contrib/Short-refcard.pdf\">commonly-used pre-defined functions</a>\n",
    "</div>\n"
   ]
  },
  {
   "cell_type": "markdown",
   "metadata": {},
   "source": [
    "<h3>User-defined functions</h3>\n"
   ]
  },
  {
   "cell_type": "markdown",
   "metadata": {},
   "source": [
    "Functions are very easy to create in R:\n"
   ]
  },
  {
   "cell_type": "code",
   "execution_count": 60,
   "metadata": {},
   "outputs": [],
   "source": [
    "printHelloWorld <- function(){\n",
    "    print(\"Hello World\")\n",
    "}"
   ]
  },
  {
   "cell_type": "markdown",
   "metadata": {},
   "source": [
    "To use it, simply run the function with **`()`** at the end:\n"
   ]
  },
  {
   "cell_type": "code",
   "execution_count": 61,
   "metadata": {
    "scrolled": true
   },
   "outputs": [
    {
     "name": "stdout",
     "output_type": "stream",
     "text": [
      "[1] \"Hello World\"\n"
     ]
    }
   ],
   "source": [
    "printHelloWorld()"
   ]
  },
  {
   "cell_type": "markdown",
   "metadata": {},
   "source": [
    "But what if you want the function to provide some **output** based on some **inputs**?\n"
   ]
  },
  {
   "cell_type": "code",
   "execution_count": 62,
   "metadata": {},
   "outputs": [
    {
     "data": {
      "text/html": [
       "7"
      ],
      "text/latex": [
       "7"
      ],
      "text/markdown": [
       "7"
      ],
      "text/plain": [
       "[1] 7"
      ]
     },
     "metadata": {},
     "output_type": "display_data"
    }
   ],
   "source": [
    "add <- function(x, y) {\n",
    "    x + y\n",
    "}\n",
    "add(3, 4)"
   ]
  },
  {
   "cell_type": "markdown",
   "metadata": {},
   "source": [
    "As you can see above, you can create functions with the following syntax to take in inputs (as its arguments), then provide some output.\n",
    "\n",
    "**`f <- function(<arguments>) {  `  \n",
    "  `  Do something`  \n",
    "  `  Do something`  \n",
    "  `  return(some_output)`  \n",
    "`}  `**\n"
   ]
  },
  {
   "cell_type": "markdown",
   "metadata": {},
   "source": [
    "<hr>\n"
   ]
  },
  {
   "cell_type": "markdown",
   "metadata": {},
   "source": [
    "<a id='ref2'></a>\n",
    "\n",
    "<center><h2>Explicitly returning outputs in user-defined functions</h2></center>\n",
    "\n",
    "In R, the last line in the function is automatically inferred as the output the function. \n",
    "\n",
    "#### You can also explicitly tell the function to return an output.\n"
   ]
  },
  {
   "cell_type": "code",
   "execution_count": 63,
   "metadata": {},
   "outputs": [
    {
     "data": {
      "text/html": [
       "7"
      ],
      "text/latex": [
       "7"
      ],
      "text/markdown": [
       "7"
      ],
      "text/plain": [
       "[1] 7"
      ]
     },
     "metadata": {},
     "output_type": "display_data"
    }
   ],
   "source": [
    "add <- function(x, y){\n",
    "    return(x + y)\n",
    "}\n",
    "add(3, 4)"
   ]
  },
  {
   "cell_type": "markdown",
   "metadata": {},
   "source": [
    "It's good practice to use the `return()` function to explicitly tell the function to return the output.\n"
   ]
  },
  {
   "cell_type": "markdown",
   "metadata": {},
   "source": [
    "<hr>\n"
   ]
  },
  {
   "cell_type": "markdown",
   "metadata": {},
   "source": [
    "<a id='ref3'></a>\n",
    "\n",
    "<center><h2>Using IF/ELSE statements in functions</h2></center>\n",
    "\n",
    "The **`return()`** function is particularly useful if you have any IF statements in the function, when you want your output to be dependent on some condition:\n"
   ]
  },
  {
   "cell_type": "code",
   "execution_count": 64,
   "metadata": {},
   "outputs": [
    {
     "data": {
      "text/html": [
       "'NO'"
      ],
      "text/latex": [
       "'NO'"
      ],
      "text/markdown": [
       "'NO'"
      ],
      "text/plain": [
       "[1] \"NO\""
      ]
     },
     "metadata": {},
     "output_type": "display_data"
    },
    {
     "data": {
      "text/html": [
       "'YES'"
      ],
      "text/latex": [
       "'YES'"
      ],
      "text/markdown": [
       "'YES'"
      ],
      "text/plain": [
       "[1] \"YES\""
      ]
     },
     "metadata": {},
     "output_type": "display_data"
    }
   ],
   "source": [
    "isGoodRating <- function(rating){\n",
    "    #This function returns \"NO\" if the input value is less than 7. Otherwise it returns \"YES\".\n",
    "    \n",
    "    if(rating < 7){\n",
    "        return(\"NO\") # return NO if the movie rating is less than 7\n",
    "    \n",
    "    }else{\n",
    "        return(\"YES\") # otherwise return YES\n",
    "    }\n",
    "}\n",
    "\n",
    "isGoodRating(6)\n",
    "isGoodRating(9.5)"
   ]
  },
  {
   "cell_type": "markdown",
   "metadata": {},
   "source": [
    "<hr>\n"
   ]
  },
  {
   "cell_type": "markdown",
   "metadata": {},
   "source": [
    "<a id='ref4'></a>\n",
    "\n",
    "<center><h2>Setting default argument values in your custom functions</h2></center>\n",
    "\n",
    "You can a set a default value for arguments in your function. For example, in the **`isGoodRating()`** function, what if we wanted to create a threshold for what we consider to be a good rating?  \n",
    "\n",
    "Perhaps by default, we should set the threshold to 7:\n"
   ]
  },
  {
   "cell_type": "code",
   "execution_count": 65,
   "metadata": {},
   "outputs": [
    {
     "data": {
      "text/html": [
       "'NO'"
      ],
      "text/latex": [
       "'NO'"
      ],
      "text/markdown": [
       "'NO'"
      ],
      "text/plain": [
       "[1] \"NO\""
      ]
     },
     "metadata": {},
     "output_type": "display_data"
    },
    {
     "data": {
      "text/html": [
       "'YES'"
      ],
      "text/latex": [
       "'YES'"
      ],
      "text/markdown": [
       "'YES'"
      ],
      "text/plain": [
       "[1] \"YES\""
      ]
     },
     "metadata": {},
     "output_type": "display_data"
    }
   ],
   "source": [
    "isGoodRating <- function(rating, threshold = 7){\n",
    "    if(rating < threshold){\n",
    "        return(\"NO\") # return NO if the movie rating is less than the threshold\n",
    "    }else{\n",
    "        return(\"YES\") # otherwise return YES\n",
    "    }\n",
    "}\n",
    "\n",
    "isGoodRating(6)\n",
    "isGoodRating(10)"
   ]
  },
  {
   "cell_type": "markdown",
   "metadata": {},
   "source": [
    "Notice how we did not have to explicitly specify the second argument (threshold), but we could specify it. Let's say we have a higher standard for movie ratings, so let's bring our threshold up to 8.5:\n"
   ]
  },
  {
   "cell_type": "code",
   "execution_count": 66,
   "metadata": {},
   "outputs": [
    {
     "data": {
      "text/html": [
       "'NO'"
      ],
      "text/latex": [
       "'NO'"
      ],
      "text/markdown": [
       "'NO'"
      ],
      "text/plain": [
       "[1] \"NO\""
      ]
     },
     "metadata": {},
     "output_type": "display_data"
    }
   ],
   "source": [
    "isGoodRating(8, threshold = 8.5)"
   ]
  },
  {
   "cell_type": "markdown",
   "metadata": {},
   "source": [
    "Great! Now you know how to create default values. **Note that** if you know the order of the arguments, you do not need to write out the argument, as in:\n"
   ]
  },
  {
   "cell_type": "code",
   "execution_count": 67,
   "metadata": {},
   "outputs": [
    {
     "data": {
      "text/html": [
       "'NO'"
      ],
      "text/latex": [
       "'NO'"
      ],
      "text/markdown": [
       "'NO'"
      ],
      "text/plain": [
       "[1] \"NO\""
      ]
     },
     "metadata": {},
     "output_type": "display_data"
    }
   ],
   "source": [
    "isGoodRating(8, 8.5) #rating = 8, threshold = 8.5"
   ]
  },
  {
   "cell_type": "markdown",
   "metadata": {},
   "source": [
    "<hr>\n"
   ]
  },
  {
   "cell_type": "markdown",
   "metadata": {},
   "source": [
    "<a id='ref5'></a>\n",
    "\n",
    "<center><h2>Using functions within functions</h2></center>\n",
    "\n",
    "Using functions within functions is no big deal. In fact, you've already used the **`print()`** and **`return()`** functions. So let's try making our **`isGoodRating()`** more interesting.\n"
   ]
  },
  {
   "cell_type": "markdown",
   "metadata": {},
   "source": [
    "Let's create a function that can help us decide on which movie to watch, based on its rating. We should be able to provide the name of the movie, and it should return **NO** if the movie rating is below 7, and **YES** otherwise.\n"
   ]
  },
  {
   "cell_type": "markdown",
   "metadata": {},
   "source": [
    "First, let's read in our movies data:\n"
   ]
  },
  {
   "cell_type": "code",
   "execution_count": 68,
   "metadata": {},
   "outputs": [
    {
     "data": {
      "text/html": [
       "<table class=\"dataframe\">\n",
       "<caption>A data.frame: 6 × 8</caption>\n",
       "<thead>\n",
       "\t<tr><th></th><th scope=col>name</th><th scope=col>year</th><th scope=col>length_min</th><th scope=col>genre</th><th scope=col>average_rating</th><th scope=col>cost_millions</th><th scope=col>foreign</th><th scope=col>age_restriction</th></tr>\n",
       "\t<tr><th></th><th scope=col>&lt;chr&gt;</th><th scope=col>&lt;int&gt;</th><th scope=col>&lt;int&gt;</th><th scope=col>&lt;chr&gt;</th><th scope=col>&lt;dbl&gt;</th><th scope=col>&lt;dbl&gt;</th><th scope=col>&lt;int&gt;</th><th scope=col>&lt;int&gt;</th></tr>\n",
       "</thead>\n",
       "<tbody>\n",
       "\t<tr><th scope=row>1</th><td>Toy Story         </td><td>1995</td><td> 81</td><td>Animation</td><td>8.3</td><td>30.0</td><td>0</td><td> 0</td></tr>\n",
       "\t<tr><th scope=row>2</th><td>Akira             </td><td>1998</td><td>125</td><td>Animation</td><td>8.1</td><td>10.4</td><td>1</td><td>14</td></tr>\n",
       "\t<tr><th scope=row>3</th><td>The Breakfast Club</td><td>1985</td><td> 97</td><td>Drama    </td><td>7.9</td><td> 1.0</td><td>0</td><td>14</td></tr>\n",
       "\t<tr><th scope=row>4</th><td>The Artist        </td><td>2011</td><td>100</td><td>Romance  </td><td>8.0</td><td>15.0</td><td>1</td><td>12</td></tr>\n",
       "\t<tr><th scope=row>5</th><td>Modern Times      </td><td>1936</td><td> 87</td><td>Comedy   </td><td>8.6</td><td> 1.5</td><td>0</td><td>10</td></tr>\n",
       "\t<tr><th scope=row>6</th><td>Fight Club        </td><td>1999</td><td>139</td><td>Drama    </td><td>8.9</td><td>63.0</td><td>0</td><td>18</td></tr>\n",
       "</tbody>\n",
       "</table>\n"
      ],
      "text/latex": [
       "A data.frame: 6 × 8\n",
       "\\begin{tabular}{r|llllllll}\n",
       "  & name & year & length\\_min & genre & average\\_rating & cost\\_millions & foreign & age\\_restriction\\\\\n",
       "  & <chr> & <int> & <int> & <chr> & <dbl> & <dbl> & <int> & <int>\\\\\n",
       "\\hline\n",
       "\t1 & Toy Story          & 1995 &  81 & Animation & 8.3 & 30.0 & 0 &  0\\\\\n",
       "\t2 & Akira              & 1998 & 125 & Animation & 8.1 & 10.4 & 1 & 14\\\\\n",
       "\t3 & The Breakfast Club & 1985 &  97 & Drama     & 7.9 &  1.0 & 0 & 14\\\\\n",
       "\t4 & The Artist         & 2011 & 100 & Romance   & 8.0 & 15.0 & 1 & 12\\\\\n",
       "\t5 & Modern Times       & 1936 &  87 & Comedy    & 8.6 &  1.5 & 0 & 10\\\\\n",
       "\t6 & Fight Club         & 1999 & 139 & Drama     & 8.9 & 63.0 & 0 & 18\\\\\n",
       "\\end{tabular}\n"
      ],
      "text/markdown": [
       "\n",
       "A data.frame: 6 × 8\n",
       "\n",
       "| <!--/--> | name &lt;chr&gt; | year &lt;int&gt; | length_min &lt;int&gt; | genre &lt;chr&gt; | average_rating &lt;dbl&gt; | cost_millions &lt;dbl&gt; | foreign &lt;int&gt; | age_restriction &lt;int&gt; |\n",
       "|---|---|---|---|---|---|---|---|---|\n",
       "| 1 | Toy Story          | 1995 |  81 | Animation | 8.3 | 30.0 | 0 |  0 |\n",
       "| 2 | Akira              | 1998 | 125 | Animation | 8.1 | 10.4 | 1 | 14 |\n",
       "| 3 | The Breakfast Club | 1985 |  97 | Drama     | 7.9 |  1.0 | 0 | 14 |\n",
       "| 4 | The Artist         | 2011 | 100 | Romance   | 8.0 | 15.0 | 1 | 12 |\n",
       "| 5 | Modern Times       | 1936 |  87 | Comedy    | 8.6 |  1.5 | 0 | 10 |\n",
       "| 6 | Fight Club         | 1999 | 139 | Drama     | 8.9 | 63.0 | 0 | 18 |\n",
       "\n"
      ],
      "text/plain": [
       "  name               year length_min genre     average_rating cost_millions\n",
       "1 Toy Story          1995  81        Animation 8.3            30.0         \n",
       "2 Akira              1998 125        Animation 8.1            10.4         \n",
       "3 The Breakfast Club 1985  97        Drama     7.9             1.0         \n",
       "4 The Artist         2011 100        Romance   8.0            15.0         \n",
       "5 Modern Times       1936  87        Comedy    8.6             1.5         \n",
       "6 Fight Club         1999 139        Drama     8.9            63.0         \n",
       "  foreign age_restriction\n",
       "1 0        0             \n",
       "2 1       14             \n",
       "3 0       14             \n",
       "4 1       12             \n",
       "5 0       10             \n",
       "6 0       18             "
      ]
     },
     "metadata": {},
     "output_type": "display_data"
    }
   ],
   "source": [
    "my_data <- read.csv(\"movies-db.csv\")\n",
    "head(my_data)"
   ]
  },
  {
   "cell_type": "markdown",
   "metadata": {},
   "source": [
    "Next, do you remember how to check the value of the **average_rating** column if we specify a movie name?  \n",
    "Here's how:\n"
   ]
  },
  {
   "cell_type": "code",
   "execution_count": 69,
   "metadata": {},
   "outputs": [
    {
     "data": {
      "text/html": [
       "8.1"
      ],
      "text/latex": [
       "8.1"
      ],
      "text/markdown": [
       "8.1"
      ],
      "text/plain": [
       "[1] 8.1"
      ]
     },
     "metadata": {},
     "output_type": "display_data"
    },
    {
     "data": {
      "text/html": [
       "'YES'"
      ],
      "text/latex": [
       "'YES'"
      ],
      "text/markdown": [
       "'YES'"
      ],
      "text/plain": [
       "[1] \"YES\""
      ]
     },
     "metadata": {},
     "output_type": "display_data"
    }
   ],
   "source": [
    "# Within my_data, the row should be where the first column equals \"Akira\"\n",
    "# AND the column should be \"average_rating\"\n",
    "\n",
    "akira <- my_data[my_data$name == \"Akira\", \"average_rating\"]\n",
    "akira\n",
    "\n",
    "isGoodRating(akira)"
   ]
  },
  {
   "cell_type": "markdown",
   "metadata": {},
   "source": [
    "Now, let's put this all together into a function, that can take any **moviename** and return a **YES** or **NO** for whether or not we should watch it.\n"
   ]
  },
  {
   "cell_type": "code",
   "execution_count": 70,
   "metadata": {},
   "outputs": [
    {
     "data": {
      "text/html": [
       "'YES'"
      ],
      "text/latex": [
       "'YES'"
      ],
      "text/markdown": [
       "'YES'"
      ],
      "text/plain": [
       "[1] \"YES\""
      ]
     },
     "metadata": {},
     "output_type": "display_data"
    }
   ],
   "source": [
    "watchMovie <- function(data, moviename){\n",
    "    rating <- data[data[\"name\"] == moviename,\"average_rating\"]\n",
    "    return(isGoodRating(rating))\n",
    "}\n",
    "\n",
    "watchMovie(my_data, \"Akira\")"
   ]
  },
  {
   "cell_type": "markdown",
   "metadata": {},
   "source": [
    "**Make sure you take the time to understand the function above.** Notice how the function expects two inputs: `data` and `moviename`, and so when we use the function, we must also input two arguments.\n"
   ]
  },
  {
   "cell_type": "markdown",
   "metadata": {},
   "source": [
    "_But what if we only want to watch really good movies? How do we set our rating threshold that we created earlier? _\n",
    "<br>\n",
    "Here's how:\n"
   ]
  },
  {
   "cell_type": "code",
   "execution_count": 71,
   "metadata": {},
   "outputs": [],
   "source": [
    "watchMovie <- function(data, moviename, my_threshold){\n",
    "    rating <- data[data$name == moviename,\"average_rating\"]\n",
    "    return(isGoodRating(rating, threshold = my_threshold))\n",
    "}"
   ]
  },
  {
   "cell_type": "markdown",
   "metadata": {},
   "source": [
    "Now our watchMovie takes three inputs: **data**, **moviename** and **my_threshold**\n"
   ]
  },
  {
   "cell_type": "code",
   "execution_count": 72,
   "metadata": {},
   "outputs": [
    {
     "data": {
      "text/html": [
       "'YES'"
      ],
      "text/latex": [
       "'YES'"
      ],
      "text/markdown": [
       "'YES'"
      ],
      "text/plain": [
       "[1] \"YES\""
      ]
     },
     "metadata": {},
     "output_type": "display_data"
    }
   ],
   "source": [
    "watchMovie(my_data, \"Akira\", 7)"
   ]
  },
  {
   "cell_type": "markdown",
   "metadata": {},
   "source": [
    "_What if we want to still set our default threshold to be 7?_\n",
    "<br>\n",
    "Here's how we can do it:\n"
   ]
  },
  {
   "cell_type": "code",
   "execution_count": 73,
   "metadata": {},
   "outputs": [
    {
     "data": {
      "text/html": [
       "'YES'"
      ],
      "text/latex": [
       "'YES'"
      ],
      "text/markdown": [
       "'YES'"
      ],
      "text/plain": [
       "[1] \"YES\""
      ]
     },
     "metadata": {},
     "output_type": "display_data"
    }
   ],
   "source": [
    "watchMovie <- function(data, moviename, my_threshold = 7){\n",
    "    rating <- data[data[,1] == moviename,\"average_rating\"]\n",
    "    return(isGoodRating(rating, threshold = my_threshold))\n",
    "}\n",
    "\n",
    "watchMovie(my_data,\"Akira\")"
   ]
  },
  {
   "cell_type": "markdown",
   "metadata": {},
   "source": [
    "As you can imagine, if we assign the output to a variable, the variable will be assigned to **YES**\n"
   ]
  },
  {
   "cell_type": "code",
   "execution_count": 74,
   "metadata": {},
   "outputs": [
    {
     "data": {
      "text/html": [
       "'YES'"
      ],
      "text/latex": [
       "'YES'"
      ],
      "text/markdown": [
       "'YES'"
      ],
      "text/plain": [
       "[1] \"YES\""
      ]
     },
     "metadata": {},
     "output_type": "display_data"
    }
   ],
   "source": [
    "a <- watchMovie(my_data, \"Akira\")\n",
    "a"
   ]
  },
  {
   "cell_type": "markdown",
   "metadata": {},
   "source": [
    "While the **watchMovie** is easier to use, I can't tell what the movie rating actually is. How do I make it _print_ what the actual movie rating is, before giving me a response? To do so, we can simply add in a **print** statement before the final line of the function.  \n",
    "\n",
    "We can also use the built-in **`paste()`** function to concatenate a sequence of character strings together into a single string.\n"
   ]
  },
  {
   "cell_type": "code",
   "execution_count": 75,
   "metadata": {},
   "outputs": [
    {
     "name": "stdout",
     "output_type": "stream",
     "text": [
      "[1] \"The movie rating for Akira is 8.1\"\n"
     ]
    },
    {
     "data": {
      "text/html": [
       "'YES'"
      ],
      "text/latex": [
       "'YES'"
      ],
      "text/markdown": [
       "'YES'"
      ],
      "text/plain": [
       "[1] \"YES\""
      ]
     },
     "metadata": {},
     "output_type": "display_data"
    }
   ],
   "source": [
    "watchMovie <- function(moviename, my_threshold = 7){\n",
    "    rating <- my_data[my_data[,1] == moviename,\"average_rating\"]\n",
    "\n",
    "    memo <- paste(\"The movie rating for\", moviename, \"is\", rating)\n",
    "    print(memo)\n",
    "    \n",
    "    return(isGoodRating(rating, threshold = my_threshold))\n",
    "}\n",
    "\n",
    "watchMovie(\"Akira\")"
   ]
  },
  {
   "cell_type": "markdown",
   "metadata": {},
   "source": [
    "Just note that the returned output is actually the resulting value of the function:\n"
   ]
  },
  {
   "cell_type": "code",
   "execution_count": 76,
   "metadata": {},
   "outputs": [
    {
     "name": "stdout",
     "output_type": "stream",
     "text": [
      "[1] \"The movie rating for Akira is 8.1\"\n"
     ]
    }
   ],
   "source": [
    "x <- watchMovie(\"Akira\")"
   ]
  },
  {
   "cell_type": "code",
   "execution_count": 77,
   "metadata": {},
   "outputs": [
    {
     "name": "stdout",
     "output_type": "stream",
     "text": [
      "[1] \"YES\"\n"
     ]
    }
   ],
   "source": [
    "print(x)"
   ]
  },
  {
   "cell_type": "markdown",
   "metadata": {},
   "source": [
    "<hr>\n"
   ]
  },
  {
   "cell_type": "markdown",
   "metadata": {},
   "source": [
    "<a id='ref6'></a>\n",
    "\n",
    "<center><h2>Global and local variables</h2></center>\n",
    "\n",
    "So far, we've been creating variables within functions, but did you notice what happens to those variables outside of the function?  \n",
    "\n",
    "Let's try to see what **memo** returns:\n"
   ]
  },
  {
   "cell_type": "code",
   "execution_count": 78,
   "metadata": {},
   "outputs": [
    {
     "name": "stdout",
     "output_type": "stream",
     "text": [
      "[1] \"The movie rating for Akira is 8.1\"\n"
     ]
    },
    {
     "data": {
      "text/html": [
       "'YES'"
      ],
      "text/latex": [
       "'YES'"
      ],
      "text/markdown": [
       "'YES'"
      ],
      "text/plain": [
       "[1] \"YES\""
      ]
     },
     "metadata": {},
     "output_type": "display_data"
    }
   ],
   "source": [
    "watchMovie <- function(moviename, my_threshold = 7){\n",
    "    rating <- my_data[my_data[,1] == moviename,\"average_rating\"]\n",
    "    \n",
    "    memo <- paste(\"The movie rating for\", moviename, \"is\", rating)\n",
    "    print(memo)\n",
    "    \n",
    "    isGoodRating(rating, threshold = my_threshold)\n",
    "}\n",
    "\n",
    "watchMovie(\"Akira\")"
   ]
  },
  {
   "cell_type": "code",
   "execution_count": 79,
   "metadata": {},
   "outputs": [
    {
     "ename": "ERROR",
     "evalue": "Error in eval(expr, envir, enclos): object 'memo' not found\n",
     "output_type": "error",
     "traceback": [
      "Error in eval(expr, envir, enclos): object 'memo' not found\nTraceback:\n"
     ]
    }
   ],
   "source": [
    "memo"
   ]
  },
  {
   "cell_type": "markdown",
   "metadata": {},
   "source": [
    "**We got an error:**  ` object 'memo' not found`. **Why?**  \n",
    "\n",
    "It's because all the variables we create in the function remain within the function. In technical terms, this is a **local variable**, meaning that the variable assignment does not persist outside the function. The `memo` variable only exists within the function.    \n",
    "\n",
    "But there is a way to create **global variables** from within a function -- where you can use the global variable outside of the function. It is typically _not_ recommended that you use global variables, since it may become harder to manage your code, so this is just for your information.  \n",
    "\n",
    "To create a **global variable**, we need to use this syntax:\n",
    "\n",
    "> **`x <<- 1`**\n",
    "\n",
    "Here's an example of a global variable assignment:\n"
   ]
  },
  {
   "cell_type": "code",
   "execution_count": 80,
   "metadata": {},
   "outputs": [
    {
     "data": {
      "text/html": [
       "'Hello World'"
      ],
      "text/latex": [
       "'Hello World'"
      ],
      "text/markdown": [
       "'Hello World'"
      ],
      "text/plain": [
       "[1] \"Hello World\""
      ]
     },
     "metadata": {},
     "output_type": "display_data"
    }
   ],
   "source": [
    "myFunction <- function(){\n",
    "    y <<- 3.14\n",
    "    return(\"Hello World\")\n",
    "    }\n",
    "myFunction()"
   ]
  },
  {
   "cell_type": "code",
   "execution_count": 81,
   "metadata": {},
   "outputs": [
    {
     "data": {
      "text/html": [
       "3.14"
      ],
      "text/latex": [
       "3.14"
      ],
      "text/markdown": [
       "3.14"
      ],
      "text/plain": [
       "[1] 3.14"
      ]
     },
     "metadata": {},
     "output_type": "display_data"
    }
   ],
   "source": [
    "y #created only in the myFunction function"
   ]
  },
  {
   "cell_type": "markdown",
   "metadata": {},
   "source": [
    "<hr>\n"
   ]
  },
  {
   "cell_type": "markdown",
   "metadata": {},
   "source": [
    "#### Scaling R with big data\n",
    "\n",
    "As you learn more about R, if you are interested in exploring platforms that can help you run analyses at scale, you might want to sign up for a free account on [IBM Watson Studio](http://cocl.us/dsx_rp0101en), which allows you to run analyses in R with two Spark executors for free.\n",
    "\n",
    "<hr>\n"
   ]
  },
  {
   "cell_type": "markdown",
   "metadata": {},
   "source": [
    "### About the Author:\n",
    "\n",
    "Hi! It's [Aditya Walia](https://ca.linkedin.com/in/aditya-walia-14b678bb?cm_mmc=Email_Newsletter-_-Developer_Ed%2BTech-_-WW_WW-_-SkillsNetwork-Courses-IBMDeveloperSkillsNetwork-RP0101EN-SkillsNetwork-20900564&cm_mmca1=000026UJ&cm_mmca2=10006555&cm_mmca3=M12345678&cvosrc=email.Newsletter.M12345678&cvo_campaign=000026UJ&cm_mmc=Email_Newsletter-_-Developer_Ed%2BTech-_-WW_WW-_-SkillsNetwork-Courses-IBMDeveloperSkillsNetwork-RP0101EN-SkillsNetwork-20900564&cm_mmca1=000026UJ&cm_mmca2=10006555&cm_mmca3=M12345678&cvosrc=email.Newsletter.M12345678&cvo_campaign=000026UJ), the author of this notebook. I hope you found R easy to learn! There's lots more to learn about R but you're well on your way. Feel free to connect with me if you have any questions.\n",
    "\n",
    "<hr>\n",
    "\n",
    "Copyright © [IBM Cognitive Class](https://cognitiveclass.ai?cm_mmc=Email_Newsletter-_-Developer_Ed%2BTech-_-WW_WW-_-SkillsNetwork-Courses-IBMDeveloperSkillsNetwork-RP0101EN-SkillsNetwork-20900564&cm_mmca1=000026UJ&cm_mmca2=10006555&cm_mmca3=M12345678&cvosrc=email.Newsletter.M12345678&cvo_campaign=000026UJ&cm_mmc=Email_Newsletter-_-Developer_Ed%2BTech-_-WW_WW-_-SkillsNetwork-Courses-IBMDeveloperSkillsNetwork-RP0101EN-SkillsNetwork-20900564&cm_mmca1=000026UJ&cm_mmca2=10006555&cm_mmca3=M12345678&cvosrc=email.Newsletter.M12345678&cvo_campaign=000026UJ). This notebook and its source code are released under the terms of the [MIT License](https://cognitiveclass.ai/mit-license?cm_mmc=Email_Newsletter-_-Developer_Ed%2BTech-_-WW_WW-_-SkillsNetwork-Courses-IBMDeveloperSkillsNetwork-RP0101EN-SkillsNetwork-20900564&cm_mmca1=000026UJ&cm_mmca2=10006555&cm_mmca3=M12345678&cvosrc=email.Newsletter.M12345678&cvo_campaign=000026UJ&cm_mmc=Email_Newsletter-_-Developer_Ed%2BTech-_-WW_WW-_-SkillsNetwork-Courses-IBMDeveloperSkillsNetwork-RP0101EN-SkillsNetwork-20900564&cm_mmca1=000026UJ&cm_mmca2=10006555&cm_mmca3=M12345678&cvosrc=email.Newsletter.M12345678&cvo_campaign=000026UJ).\n"
   ]
  }
 ],
 "metadata": {
  "kernelspec": {
   "display_name": "R",
   "language": "R",
   "name": "ir"
  },
  "language_info": {
   "codemirror_mode": "r",
   "file_extension": ".r",
   "mimetype": "text/x-r-source",
   "name": "R",
   "pygments_lexer": "r",
   "version": "4.1.0"
  },
  "toc": {
   "base_numbering": 1,
   "nav_menu": {},
   "number_sections": false,
   "sideBar": true,
   "skip_h1_title": true,
   "title_cell": "Contents",
   "title_sidebar": "Contents",
   "toc_cell": true,
   "toc_position": {},
   "toc_section_display": true,
   "toc_window_display": true
  },
  "widgets": {
   "state": {},
   "version": "1.1.2"
  }
 },
 "nbformat": 4,
 "nbformat_minor": 2
}
